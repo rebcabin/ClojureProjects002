{
 "cells": [
  {
   "cell_type": "markdown",
   "metadata": {
    "slideshow": {
     "slide_type": "slide"
    }
   },
   "source": [
    "# COMPOSABLE STATISTICS"
   ]
  },
  {
   "cell_type": "markdown",
   "metadata": {},
   "source": [
    "__Brian Beckman__\n",
    "\n",
    "__June 2017__ - __June 2019__"
   ]
  },
  {
   "cell_type": "markdown",
   "metadata": {},
   "source": [
    "## CLOJURE"
   ]
  },
  {
   "cell_type": "markdown",
   "metadata": {},
   "source": [
    "We prefer Clojure to Python for this exercise due to Clojure's concurrency primitives, especially atoms and core.async. Python is growing and improving rapidly, so we may return to it someday. "
   ]
  },
  {
   "cell_type": "markdown",
   "metadata": {},
   "source": [
    "Section [HOW TO USE THIS DOCUMENT](#HOW-TO-USE-THIS-DOCUMENT) explains how to get Clojure working inside Jupyter. "
   ]
  },
  {
   "cell_type": "markdown",
   "metadata": {},
   "source": [
    "The best sites for learning Clojure by example are [clojuredocs.org](http://clojuredocs.org) and [4clojure.org](http://4clojure.org). A recommended book is [Clojure for the Brave and True](http://braveclojure.com)."
   ]
  },
  {
   "cell_type": "markdown",
   "metadata": {},
   "source": [
    "## HOW TO USE THIS DOCUMENT"
   ]
  },
  {
   "cell_type": "markdown",
   "metadata": {},
   "source": [
    "1. Install leiningen https://leiningen.org/ (this is all you need for Clojure)\n",
    "2. Install [jupyter notebook](http://jupyter.readthedocs.io/en/latest/install.html)\n",
    "3. https://github.com/clojupyter/clojupyter\n",
    "4. At a bash prompt, type `jupyter notebook`\n",
    "5. A web page will open automatically; navigate to the file you're reading right now\n",
    "6. Evaluate cells by typing `Shift-Enter`"
   ]
  },
  {
   "cell_type": "markdown",
   "metadata": {},
   "source": [
    "Consider doing all Python work in [pipenv](https://pipenv.readthedocs.io/). It keeps virtual environments outside your local folders. It works for this `clojupyter` notebook as well."
   ]
  },
  {
   "cell_type": "markdown",
   "metadata": {},
   "source": [
    "# INTRODUCTION"
   ]
  },
  {
   "cell_type": "markdown",
   "metadata": {
    "slideshow": {
     "slide_type": "subslide"
    }
   },
   "source": [
    "We want to compute descriptive statistics in constant memory. We want exactly the same code to run over sequences distributed in space as runs over sequences distributed in time. Sequences distributed in space are vectors, lists, arrays, lazy or not. Sequences distributed over time are asynchronous streams. Descriptive statistics range from `count`, `mean`, `max`, `min`, and `variance` to Kalman filters and Gaussian processes. We decouple computation from data delivery by packaging computation in composable functions."
   ]
  },
  {
   "cell_type": "markdown",
   "metadata": {
    "slideshow": {
     "slide_type": "subslide"
    }
   },
   "source": [
    "Some sample scalar data:"
   ]
  },
  {
   "cell_type": "code",
   "execution_count": 1,
   "metadata": {},
   "outputs": [
    {
     "data": {
      "text/plain": [
       "#'user/zs"
      ]
     },
     "execution_count": 1,
     "metadata": {},
     "output_type": "execute_result"
    }
   ],
   "source": [
    "(def zs [-0.178654, 0.828305, 0.0592247, -0.0121089, -1.48014, \n",
    "         -0.315044, -0.324796, -0.676357, 0.16301, -0.858164])"
   ]
  },
  {
   "cell_type": "markdown",
   "metadata": {},
   "source": [
    "TODO: generate new random data."
   ]
  },
  {
   "cell_type": "markdown",
   "metadata": {},
   "source": [
    "TODO: incanter integration"
   ]
  },
  {
   "cell_type": "markdown",
   "metadata": {
    "slideshow": {
     "slide_type": "slide"
    }
   },
   "source": [
    "# RUNNING COUNT"
   ]
  },
  {
   "cell_type": "markdown",
   "metadata": {
    "slideshow": {
     "slide_type": "subslide"
    }
   },
   "source": [
    "The traditional and obvious way with `reduce` and `reductions` (https://clojuredocs.org/clojure.core/reduce). _Reduce_ takes three arguments: a binary function, an initial value, and a space-sequence of inputs."
   ]
  },
  {
   "cell_type": "code",
   "execution_count": 2,
   "metadata": {
    "slideshow": {
     "slide_type": "subslide"
    }
   },
   "outputs": [
    {
     "data": {
      "text/plain": [
       "10"
      ]
     },
     "execution_count": 2,
     "metadata": {},
     "output_type": "execute_result"
    }
   ],
   "source": [
    "(reduce \n",
    "    (fn [count datum] (inc count)) ; binary function\n",
    "    0                              ; initial value\n",
    "    zs)                            ; space sequence"
   ]
  },
  {
   "cell_type": "markdown",
   "metadata": {
    "slideshow": {
     "slide_type": "subslide"
    }
   },
   "source": [
    "... with all intermediate results:"
   ]
  },
  {
   "cell_type": "code",
   "execution_count": 3,
   "metadata": {
    "slideshow": {
     "slide_type": "subslide"
    }
   },
   "outputs": [
    {
     "data": {
      "text/plain": [
       "(0 1 2 3 4 5 6 7 8 9 10)"
      ]
     },
     "execution_count": 3,
     "metadata": {},
     "output_type": "execute_result"
    }
   ],
   "source": [
    "(reductions (fn [c z] (inc c)) 0 zs)"
   ]
  },
  {
   "cell_type": "markdown",
   "metadata": {},
   "source": [
    "## THREAD-SAFE"
   ]
  },
  {
   "cell_type": "markdown",
   "metadata": {},
   "source": [
    "Overkill for sequences in space, but safe for multiple threads from asynchronous streams. It also shows (1) _let-over-lambda_ (LOL): closing over mutable state variables, and (2) transactional mutation, i.e., _atomic updates_. LOL is sematically equivalent to data encapsulation in OOP, and transactions are easier to verify than is OOP with locks and mutexes.\n",
    "\n",
    "The following has a defect: we need `initial-count` both to initialize the atom and to initialize the `reduce` call. This defect must be traded off against the generalizable form or _functional type_ of the reducible, namely $(\\textrm{estimate}, \\textrm{measurement})\\rightarrow\\textrm{estimate}$. We get rid of this defect later."
   ]
  },
  {
   "cell_type": "code",
   "execution_count": 6,
   "metadata": {},
   "outputs": [
    {
     "data": {
      "text/plain": [
       "10"
      ]
     },
     "execution_count": 6,
     "metadata": {},
     "output_type": "execute_result"
    }
   ],
   "source": [
    "(let [initial-count 0] ; Must use this twice below.\n",
    "    (reduce           \n",
    "        ; Let-over-lambda (anonymous \"object\") follows. \n",
    "        ; \"Atom\" is a transactional (thread-safe) type in Clojure.\n",
    "        (let [running-count (atom initial-count)] \n",
    "            ; That was the \"let\" of \"LOL.\" Here comes the lambda:\n",
    "            ; Reducible closure over \"running-count.\"\n",
    "            (fn [c z] ; Here's the \"lambda\" of \"LOL\"\n",
    "                (swap! running-count inc) ; transactional update\n",
    "                @running-count)) \n",
    "                ; safe \"read\" of the atom ~~> new value for c\n",
    "        initial-count\n",
    "        zs))"
   ]
  },
  {
   "cell_type": "markdown",
   "metadata": {},
   "source": [
    "Showing all intermediate results:"
   ]
  },
  {
   "cell_type": "code",
   "execution_count": 5,
   "metadata": {},
   "outputs": [
    {
     "data": {
      "text/plain": [
       "(0 1 2 3 4 5 6 7 8 9 10)"
      ]
     },
     "execution_count": 5,
     "metadata": {},
     "output_type": "execute_result"
    }
   ],
   "source": [
    "(let [initial-count 0]\n",
    "    (reductions ; <-- this is the only difference to above\n",
    "        (let [running-count (atom initial-count)]\n",
    "            (fn [c z]\n",
    "                (swap! running-count inc)\n",
    "                @running-count)) ; ~~> new value for c\n",
    "        initial-count\n",
    "        zs))"
   ]
  },
  {
   "cell_type": "markdown",
   "metadata": {},
   "source": [
    "## AVOIDING _REDUCE_"
   ]
  },
  {
   "cell_type": "markdown",
   "metadata": {},
   "source": [
    "`Reduce` only works in space, not in time. Avoiding `reduce` decouples the statistics code (\"business logic\") from the space environment (\"plumbing\"). That spaces environment delivers data from vectors, lists, etc.). We want to be able to switch out an environment that delivers data from space for an environment that delivers data points $z$ from time.\n",
    "\n",
    "The following is a thread-safe LOL, without `reduce`. We _map_ the LOL over a space-sequence in memory to produce exactly the same result as with `reduce`. The mappable LOL does not need an accumulator argument for `count`. \n",
    "\n",
    "Below, we map _exactly_ the same mappable LOL over asynchronous streams.\n",
    "\n",
    "A subtle defect: the output is still coupled to the computing environment through `print`. We get rid of that, too, [below](#REMOVING-OUTPUT-COUPLING). "
   ]
  },
  {
   "cell_type": "code",
   "execution_count": 7,
   "metadata": {},
   "outputs": [
    {
     "name": "stdout",
     "output_type": "stream",
     "text": [
      "1 2 3 4 5 6 7 8 9 10 "
     ]
    },
    {
     "data": {
      "text/plain": [
       "nil"
      ]
     },
     "execution_count": 7,
     "metadata": {},
     "output_type": "execute_result"
    }
   ],
   "source": [
    "(dorun ; <-- Discard 'nil's produced by \"print.\"\n",
    "    (map \n",
    "        (let [running-count (atom 0)]\n",
    "            (fn [z] ; <-- one fewer argument\n",
    "                (swap! running-count inc)\n",
    "                (print (str @running-count \" \"))))\n",
    "        zs))"
   ]
  },
  {
   "cell_type": "markdown",
   "metadata": {},
   "source": [
    "# RUNNING MEAN"
   ]
  },
  {
   "cell_type": "markdown",
   "metadata": {},
   "source": [
    "The following scheme for numbering equations does not work (see [stackoverflow question 41241984](https://stackoverflow.com/questions/41241984/equation-numbering-in-jupyter-notebooks)). Not sure why not. We get by without them for now (TODO)."
   ]
  },
  {
   "cell_type": "raw",
   "metadata": {},
   "source": [
    "%%javascript\n",
    "MathJax.Hub.Config({\n",
    "    TeX: { equationNumbers: { autoNumber: \"AMS\" } }\n",
    "});"
   ]
  },
  {
   "cell_type": "markdown",
   "metadata": {},
   "source": [
    "A general scheme for recurrence: ___a new statistic is an old statistic plus a correction___. \n",
    "\n",
    "The _correction_ is a _gain_ times a _residual_. For running mean, the residual is the difference between the new measurement $z$ and the old mean $x$. The gain is $1/(n+1)$, where $n$ is _count-so-far_. $n$ is a statistic, too, so it is an _old_ value, computed and saved before the current observation $z$ arrived. \n",
    "\n",
    "_The correction therefore depends only on the new input $z$ and on old statistics $x$ and $n$. The correction does not depend on new statistics_.\n",
    "\n",
    "Mathematically, write the general recurrence idea without subscripts as \n",
    "\n",
    "$$x\\leftarrow{x+K\\,(z-x)}$$\n",
    "\n",
    "or, with Lamport's notation, wherein new versions of old values get a prime, as an equation\n",
    "\n",
    "$$x'=x+K\\,(z-x)$$\n",
    "\n",
    "($z$ does not have a prime; it is the only exception to the rule that new versions of old quantities have primes). \n",
    "\n",
    "Contrast the noisy traditional form, which introduces another variable, the index $n$. This traditional form is objectively more complicated than either of the two above:\n",
    "\n",
    "$$x_{n+1}=x_n+K(n)\\,(z_{n+1}-x_n)$$"
   ]
  },
  {
   "cell_type": "code",
   "execution_count": 8,
   "metadata": {},
   "outputs": [
    {
     "name": "stdout",
     "output_type": "stream",
     "text": [
      "{:count 1, :mean -0.178654}\n",
      "{:count 2, :mean 0.3248255}\n",
      "{:count 3, :mean 0.2362919}\n",
      "{:count 4, :mean 0.1741917}\n",
      "{:count 5, :mean -0.15667464000000003}\n",
      "{:count 6, :mean -0.18306953333333337}\n",
      "{:count 7, :mean -0.20331617142857145}\n",
      "{:count 8, :mean -0.262446275}\n",
      "{:count 9, :mean -0.21517335555555556}\n",
      "{:count 10, :mean -0.27947242}\n"
     ]
    },
    {
     "data": {
      "text/plain": [
       "nil"
      ]
     },
     "execution_count": 8,
     "metadata": {},
     "output_type": "execute_result"
    }
   ],
   "source": [
    "(dorun \n",
    "    (map\n",
    "        (let [running-stats (atom {:count 0, :mean 0})]\n",
    "            (fn [z]\n",
    "                (let [{x :mean, n :count} @running-stats\n",
    "                      n+1 (inc n) ; cool variable name!\n",
    "                      K   (/ 1.0 n+1)]\n",
    "                    (swap! running-stats conj\n",
    "                           [:count n+1]\n",
    "                           [:mean (+ x (* K (- z x)))]))\n",
    "                (println @running-stats)))\n",
    "        zs))"
   ]
  },
  {
   "cell_type": "markdown",
   "metadata": {},
   "source": [
    "The `swap` above calls `conj` on the current contents of the atom `running-stats` and on the rest of the arguments, namely `[:count n+1, :mean ...]`. `conj` is the idiom for \"updating\" a hashmap, the hashmap in the atom, the hashmap that starts off as `{:count 0, :mean 0}`."
   ]
  },
  {
   "cell_type": "markdown",
   "metadata": {},
   "source": [
    "## REMOVING OUTPUT COUPLING"
   ]
  },
  {
   "cell_type": "markdown",
   "metadata": {},
   "source": [
    "Remove `println` from inside the LOL function of $z$. Now the LOL function of $z$ is completely decoupled from its environment. Also, abstract a \"factory\" method for the LOL, _make-running-stats-mapper_, to clean up the line that does the printing."
   ]
  },
  {
   "cell_type": "markdown",
   "metadata": {},
   "source": [
    "### MAKE-RUNNING-STATS-MAPPER"
   ]
  },
  {
   "cell_type": "code",
   "execution_count": 76,
   "metadata": {},
   "outputs": [
    {
     "name": "stdout",
     "output_type": "stream",
     "text": [
      "({:count 1, :mean -0.178654, :datum -0.178654}\n",
      " {:count 2, :mean 0.3248255, :datum 0.828305}\n",
      " {:count 3, :mean 0.2362919, :datum 0.0592247}\n",
      " {:count 4, :mean 0.1741917, :datum -0.0121089}\n",
      " {:count 5, :mean -0.15667464000000003, :datum -1.48014}\n",
      " {:count 6, :mean -0.18306953333333337, :datum -0.315044}\n",
      " {:count 7, :mean -0.20331617142857145, :datum -0.324796}\n",
      " {:count 8, :mean -0.262446275, :datum -0.676357}\n",
      " {:count 9, :mean -0.21517335555555556, :datum 0.16301}\n",
      " {:count 10, :mean -0.27947242, :datum -0.858164})\n"
     ]
    },
    {
     "data": {
      "text/plain": [
       "nil"
      ]
     },
     "execution_count": 76,
     "metadata": {},
     "output_type": "execute_result"
    }
   ],
   "source": [
    "(defn make-running-stats-mapper []\n",
    "    (let [running-stats (atom {:count 0 :mean 0 :datum 0})]\n",
    "        (fn [z]\n",
    "            (let [{x :mean, n :count, _ :datum} @running-stats\n",
    "                  n+1 (inc n)\n",
    "                  K   (/ 1.0 n+1)]\n",
    "                (swap! running-stats conj\n",
    "                       [:count n+1]\n",
    "                       [:mean (+ x (* K (- z x)))]\n",
    "                       [:datum z]))\n",
    "            @running-stats)))\n",
    "\n",
    "\n",
    "(clojure.pprint/pprint (map (make-running-stats-mapper) zs))"
   ]
  },
  {
   "cell_type": "markdown",
   "metadata": {},
   "source": [
    "## NUMERICAL CHECK"
   ]
  },
  {
   "cell_type": "markdown",
   "metadata": {},
   "source": [
    "The last value of the running mean is $-0.279...42$. Check that against an independent calculation."
   ]
  },
  {
   "cell_type": "code",
   "execution_count": 75,
   "metadata": {},
   "outputs": [
    {
     "data": {
      "text/plain": [
       "-0.27947242"
      ]
     },
     "execution_count": 75,
     "metadata": {},
     "output_type": "execute_result"
    }
   ],
   "source": [
    "(defn mean [zs] (/ (reduce + zs) (count zs)))\n",
    "(mean zs)"
   ]
  },
  {
   "cell_type": "markdown",
   "metadata": {},
   "source": [
    "# CORE.ASYNC"
   ]
  },
  {
   "cell_type": "markdown",
   "metadata": {},
   "source": [
    "For data distributed over time, we'll use Clojure's core.async. Core.async has some subtleties that we analyze below. "
   ]
  },
  {
   "cell_type": "code",
   "execution_count": 11,
   "metadata": {},
   "outputs": [
    {
     "data": {
      "text/plain": [
       "nil"
      ]
     },
     "execution_count": 11,
     "metadata": {},
     "output_type": "execute_result"
    }
   ],
   "source": [
    "(require \n",
    "    '[clojure.core.async \n",
    "      :refer \n",
    "      [sliding-buffer dropping-buffer buffer\n",
    "       <!! <! >! >!! go chan onto-chan close! \n",
    "       thread alts! alts!! timeout]])"
   ]
  },
  {
   "cell_type": "markdown",
   "metadata": {},
   "source": [
    "## SHALLOW TUTORIAL"
   ]
  },
  {
   "cell_type": "markdown",
   "metadata": {},
   "source": [
    "https://github.com/clojure/core.async/blob/master/examples/walkthrough.clj"
   ]
  },
  {
   "cell_type": "markdown",
   "metadata": {},
   "source": [
    "## DEEP TUTORIAL"
   ]
  },
  {
   "cell_type": "markdown",
   "metadata": {},
   "source": [
    "The asynchronous, singleton `go` thread is loaded with very lightweight _pseudothreads_ (my terminology, not standard; most things you will read or see about Clojure.async does not carefully distinguish between threads and pseudothreads, and I think that's not helpful). "
   ]
  },
  {
   "cell_type": "markdown",
   "metadata": {},
   "source": [
    "Pseudothreads are lightweight state machines that pick up where they left off. It is feasible to have thousands, even millions of them. Pseudothreads don't block, they _park_. _Parking_ and _unparking_ are very fast. We can write clean code with pseudothreads because our code looks like it's blocked waiting for input or blocked waiting for buffer space. Code with blocking I/O is easy to write and to understand. Code in `go` forms doesn't actually block, just looks like it. "
   ]
  },
  {
   "cell_type": "markdown",
   "metadata": {},
   "source": [
    "Some details are tricky and definitely not easy to divine from the documentation. Hickey's video from InfoQ 2013 (https://www.infoq.com/presentations/core-async-clojure) is more helpful, but you can only appreciate the fine points after you've stumbled a bit. I stumbled over the fact that buffered and unbuffered channels have different synchronization semantics. Syntactically, they look the same, but you cannot, in general, run the same code over an unbuffered channel that works on a buffered channel. Hickey says this, but doesn't nail it to the mast; doesn't emphasize it with an example, as I do here in this deep tutorial. He motivates the entire library with the benefits of first-class queues, but fails to emphasize that, by default, a channel is not a queue but a blocking rendezvous. He does mention it, but one cannot fully appreciate the ramifications from a passing glance."
   ]
  },
  {
   "cell_type": "markdown",
   "metadata": {},
   "source": [
    "### COMMUNICATING BETWEEN THREADS AND PSEUDOTHREADS"
   ]
  },
  {
   "cell_type": "markdown",
   "metadata": {},
   "source": [
    "Write output to unbuffered channel `c` via `>!` on the asynchronous `go` real-thread and read input from the same channel `c` via `<!!` on the UI/REPL `println` real-thread. We'll see later that writing via `>!!` to an unbuffered channel blocks the UI real-thread, so we can't write before reading unbuffered on the UI/REPL real-thread. However, we can write before reading on a non-blocking pseudothread, and no buffer space is needed."
   ]
  },
  {
   "cell_type": "code",
   "execution_count": 12,
   "metadata": {},
   "outputs": [
    {
     "name": "stdout",
     "output_type": "stream",
     "text": [
      "42\n"
     ]
    },
    {
     "data": {
      "text/plain": [
       "nil"
      ]
     },
     "execution_count": 12,
     "metadata": {},
     "output_type": "execute_result"
    }
   ],
   "source": [
    "(let [c (chan)]        ;; unbuffered chan\n",
    "    (go (>! c 42))     ;; parks if no space in chan\n",
    "    (println (<!! c))  ;; blocks UI/REPL until data on c\n",
    "    (close! c))        ;; idiom; may be harmless overkill"
   ]
  },
  {
   "cell_type": "markdown",
   "metadata": {},
   "source": [
    "In general, single-bang forms work on `go` pseudothreads, and double-bang forms work on real, heavyweight, Java threads like the UI/REPL thread behind this notebook. In the rest of this notebook, \"thread\" means \"real thread\" and we write \"pseudothread\" explicitly when that's what we mean."
   ]
  },
  {
   "cell_type": "markdown",
   "metadata": {},
   "source": [
    "I don't address thread leakage carefully in this tutorial, mostly because I don't yet understand it well. I may overkill by closing channels redundantly. "
   ]
  },
  {
   "cell_type": "markdown",
   "metadata": {},
   "source": [
    "### CHANNEL VOODOO FIRST"
   ]
  },
  {
   "cell_type": "markdown",
   "metadata": {},
   "source": [
    "Writing before reading seems very reasonable, but it does not work on unbuffered channels, as we see below. Before going there, however, let's understand more corners of the example above."
   ]
  },
  {
   "cell_type": "markdown",
   "metadata": {},
   "source": [
    "The `go` form itself returns a channel:"
   ]
  },
  {
   "cell_type": "code",
   "execution_count": 13,
   "metadata": {},
   "outputs": [
    {
     "name": "stdout",
     "output_type": "stream",
     "text": [
      "-------------------------\n",
      "clojure.core.async/go\n",
      "([& body])\n",
      "Macro\n",
      "  Asynchronously executes the body, returning immediately to the\n",
      "  calling thread. Additionally, any visible calls to <!, >! and alt!/alts!\n",
      "  channel operations within the body will block (if necessary) by\n",
      "  'parking' the calling thread rather than tying up an OS thread (or\n",
      "  the only JS thread when in ClojureScript). Upon completion of the\n",
      "  operation, the body will be resumed.\n",
      "\n",
      "  Returns a channel which will receive the result of the body when\n",
      "  completed\n"
     ]
    },
    {
     "data": {
      "text/plain": [
       "nil"
      ]
     },
     "execution_count": 13,
     "metadata": {},
     "output_type": "execute_result"
    }
   ],
   "source": [
    "(clojure.repl/doc go)"
   ]
  },
  {
   "cell_type": "markdown",
   "metadata": {},
   "source": [
    "I believe \"the calling thread\" above refers to a pseudothread inside the `go` real-thread, but I am not sure because of the ambiguities in the official documentation between \"blocking\" and \"parking\" and between \"thread\" and \"well, we don't have a name for them, but Brian calls them 'pseudothreads'.\""
   ]
  },
  {
   "cell_type": "markdown",
   "metadata": {},
   "source": [
    "Is the channel returned by `go` the same channel as `c`?"
   ]
  },
  {
   "cell_type": "code",
   "execution_count": 14,
   "metadata": {},
   "outputs": [
    {
     "name": "stdout",
     "output_type": "stream",
     "text": [
      "{:c-channel #object[clojure.core.async.impl.channels.ManyToManyChannel 0x8e613be clojure.core.async.impl.channels.ManyToManyChannel@8e613be]}\n",
      "{:go-channel #object[clojure.core.async.impl.channels.ManyToManyChannel 0x64cb44fa clojure.core.async.impl.channels.ManyToManyChannel@64cb44fa]}\n",
      "{:c-coughs-up 42}\n",
      "{:close-c nil}\n"
     ]
    },
    {
     "data": {
      "text/plain": [
       "nil"
      ]
     },
     "execution_count": 14,
     "metadata": {},
     "output_type": "execute_result"
    }
   ],
   "source": [
    "(let [c (chan)]           \n",
    "    (println {:c-channel c})\n",
    "    (println {:go-channel (go (>! c 42))})\n",
    "    (println {:c-coughs-up (<!! c)})\n",
    "    (println {:close-c (close! c)}))"
   ]
  },
  {
   "cell_type": "markdown",
   "metadata": {},
   "source": [
    "No, `c` is a different channel from the one returned by `go`. Consult the documentation for `go` once more:"
   ]
  },
  {
   "cell_type": "code",
   "execution_count": 24,
   "metadata": {},
   "outputs": [
    {
     "name": "stdout",
     "output_type": "stream",
     "text": [
      "-------------------------\n",
      "clojure.core.async/go\n",
      "([& body])\n",
      "Macro\n",
      "  Asynchronously executes the body, returning immediately to the\n",
      "  calling thread. Additionally, any visible calls to <!, >! and alt!/alts!\n",
      "  channel operations within the body will block (if necessary) by\n",
      "  'parking' the calling thread rather than tying up an OS thread (or\n",
      "  the only JS thread when in ClojureScript). Upon completion of the\n",
      "  operation, the body will be resumed.\n",
      "\n",
      "  Returns a channel which will receive the result of the body when\n",
      "  completed\n"
     ]
    },
    {
     "data": {
      "text/plain": [
       "nil"
      ]
     },
     "execution_count": 24,
     "metadata": {},
     "output_type": "execute_result"
    }
   ],
   "source": [
    "(clojure.repl/doc go)"
   ]
  },
  {
   "cell_type": "markdown",
   "metadata": {},
   "source": [
    "We should be able to read from the channel returned by `go`; call it `d`:"
   ]
  },
  {
   "cell_type": "code",
   "execution_count": 15,
   "metadata": {},
   "outputs": [
    {
     "name": "stdout",
     "output_type": "stream",
     "text": [
      "{:c-coughs-up 42, :d-coughs-up true}\n"
     ]
    },
    {
     "data": {
      "text/plain": [
       "nil"
      ]
     },
     "execution_count": 15,
     "metadata": {},
     "output_type": "execute_result"
    }
   ],
   "source": [
    "(let [c (chan)\n",
    "      d (go (>! c 42))] ;; 'let' in Clojure is sequential, \n",
    "                        ;; like 'let*' in Scheme or Common Lisp,\n",
    "                        ;; so 'd' has a value, here.\n",
    "    (println {:c-coughs-up (<!! c),  ;; won't block\n",
    "              :d-coughs-up (<!! d)}) ;; won't block\n",
    "    (close! c)\n",
    "    (close! d))"
   ]
  },
  {
   "cell_type": "markdown",
   "metadata": {},
   "source": [
    "`d`'s coughing up `true` means that the body of the `go`, namely `(>! c 42)` must have returned `true`, because `d` coughs up \"the result of the body when completed.\" Let's see whether our deduction matches documentation for `>!`:"
   ]
  },
  {
   "cell_type": "code",
   "execution_count": 26,
   "metadata": {},
   "outputs": [
    {
     "name": "stdout",
     "output_type": "stream",
     "text": [
      "-------------------------\n",
      "clojure.core.async/>!\n",
      "([port val])\n",
      "  puts a val into port. nil values are not allowed. Must be called\n",
      "  inside a (go ...) block. Will park if no buffer space is available.\n",
      "  Returns true unless port is already closed.\n"
     ]
    },
    {
     "data": {
      "text/plain": [
       "nil"
      ]
     },
     "execution_count": 26,
     "metadata": {},
     "output_type": "execute_result"
    }
   ],
   "source": [
    "(clojure.repl/doc >!)"
   ]
  },
  {
   "cell_type": "markdown",
   "metadata": {},
   "source": [
    "Sure enough. But something important is true and not obvious from this documentation. Writing to `c` inside the `go` block parks the pseudothread because no buffer space is available: `c` was created with a call to `chan` with no arguments, so no buffer space is allocated. Only when reading from `c` does the pseudothread unpark. How? There is no buffer space. Reading on the UI thread manages to short-circuit any need for a buffer and unpark the pseudothread. Such short-circuiting is called a _rendezvous_ in the ancient literature of concurrency. Would the pseudothread unpark if we read inside a `go` block and not on the UI thread?"
   ]
  },
  {
   "cell_type": "code",
   "execution_count": 29,
   "metadata": {},
   "outputs": [
    {
     "name": "stdout",
     "output_type": "stream",
     "text": [
      "{:c-channel\n",
      " #object[clojure.core.async.impl.channels.ManyToManyChannel 0x7171c824 \"clojure.core.async.impl.channels.ManyToManyChannel@7171c824\"],\n",
      " :d-channel\n",
      " #object[clojure.core.async.impl.channels.ManyToManyChannel 0x1d30e64d \"clojure.core.async.impl.channels.ManyToManyChannel@1d30e64d\"],\n",
      " :e-channel\n",
      " #object[clojure.core.async.impl.channels.ManyToManyChannel 0xa995ddb \"clojure.core.async.impl.channels.ManyToManyChannel@a995ddb\"],\n",
      " :e-coughs-up 42,\n",
      " :d-coughs-up true}\n"
     ]
    },
    {
     "data": {
      "text/plain": [
       "nil"
      ]
     },
     "execution_count": 29,
     "metadata": {},
     "output_type": "execute_result"
    }
   ],
   "source": [
    "(let [c (chan)\n",
    "      d (go (>! c 42))\n",
    "      e (go (<! c))]\n",
    "    (clojure.pprint/pprint {\n",
    "      :c-channel c, :d-channel d, :e-channel e,\n",
    "      :e-coughs-up (<!! e),  ;; won't block\n",
    "      :d-coughs-up (<!! d)}) ;; won't block\n",
    "    (close! c)\n",
    "    (close! d)\n",
    "    (close! e))"
   ]
  },
  {
   "cell_type": "markdown",
   "metadata": {},
   "source": [
    "Yes, the pseudothread that parked when $42$ is put on `c` via `>!` unparks when $42$ is taken off via `<!`. Channel `d` represents the parking step and channel `e` represents the unparking step. All three channels are different. "
   ]
  },
  {
   "cell_type": "markdown",
   "metadata": {},
   "source": [
    "So now we know how to short-circuit or rendezvous unbuffered channels. In fact, the order of reading and writing (taking and putting) does not matter in the nebulous, asynchronous world of pseudothreads. How Einsteinian is that? The following takes (reads) from `c` on `e` before puting (writing) to `c` on `d`. That's the same as above, only in the opposite order."
   ]
  },
  {
   "cell_type": "code",
   "execution_count": 30,
   "metadata": {},
   "outputs": [
    {
     "name": "stdout",
     "output_type": "stream",
     "text": [
      "{:c-channel\n",
      " #object[clojure.core.async.impl.channels.ManyToManyChannel 0x5d529720 \"clojure.core.async.impl.channels.ManyToManyChannel@5d529720\"],\n",
      " :d-channel\n",
      " #object[clojure.core.async.impl.channels.ManyToManyChannel 0x3960173 \"clojure.core.async.impl.channels.ManyToManyChannel@3960173\"],\n",
      " :e-channel\n",
      " #object[clojure.core.async.impl.channels.ManyToManyChannel 0x6c5dd118 \"clojure.core.async.impl.channels.ManyToManyChannel@6c5dd118\"],\n",
      " :e-coughs-up 42,\n",
      " :d-coughs-up true}\n"
     ]
    },
    {
     "data": {
      "text/plain": [
       "nil"
      ]
     },
     "execution_count": 30,
     "metadata": {},
     "output_type": "execute_result"
    }
   ],
   "source": [
    "(let [c (chan)\n",
    "      e (go (<! c))\n",
    "      d (go (>! c 42))]\n",
    "    (clojure.pprint/pprint {\n",
    "      :c-channel c, :d-channel d, :e-channel e,\n",
    "      :e-coughs-up (<!! e),  ;; won't block\n",
    "      :d-coughs-up (<!! d)}) ;; won't block\n",
    "    (close! c)\n",
    "    (close! d)\n",
    "    (close! e))"
   ]
  },
  {
   "cell_type": "markdown",
   "metadata": {},
   "source": [
    "### PUTS BEFORE TAKES CONSIDERED RISKY"
   ]
  },
  {
   "cell_type": "markdown",
   "metadata": {},
   "source": [
    "`>!!`, by default, blocks if called too early on an unbuffered real thread. We saw above that parked pseudothreads don't block: you can read and write to channels in `go` blocks in any order. However, that's not true with threads that actually block. The documentation is obscure, though not incorrect, about this fact."
   ]
  },
  {
   "cell_type": "code",
   "execution_count": 31,
   "metadata": {},
   "outputs": [
    {
     "name": "stdout",
     "output_type": "stream",
     "text": [
      "-------------------------\n",
      "clojure.core.async/>!!\n",
      "([port val])\n",
      "  puts a val into port. nil values are not allowed. Will block if no\n",
      "  buffer space is available. Returns true unless port is already closed.\n"
     ]
    },
    {
     "data": {
      "text/plain": [
       "nil"
      ]
     },
     "execution_count": 31,
     "metadata": {},
     "output_type": "execute_result"
    }
   ],
   "source": [
    "(clojure.repl/doc >!!)"
   ]
  },
  {
   "cell_type": "markdown",
   "metadata": {},
   "source": [
    "When is \"no buffer space available?\" It turns out that the default channel constructor makes a channel with no buffer space allocated by default."
   ]
  },
  {
   "cell_type": "code",
   "execution_count": 32,
   "metadata": {},
   "outputs": [
    {
     "name": "stdout",
     "output_type": "stream",
     "text": [
      "-------------------------\n",
      "clojure.core.async/chan\n",
      "([] [buf-or-n] [buf-or-n xform] [buf-or-n xform ex-handler])\n",
      "  Creates a channel with an optional buffer, an optional transducer\n",
      "  (like (map f), (filter p) etc or a composition thereof), and an\n",
      "  optional exception-handler.  If buf-or-n is a number, will create\n",
      "  and use a fixed buffer of that size. If a transducer is supplied a\n",
      "  buffer must be specified. ex-handler must be a fn of one argument -\n",
      "  if an exception occurs during transformation it will be called with\n",
      "  the Throwable as an argument, and any non-nil return value will be\n",
      "  placed in the channel.\n"
     ]
    },
    {
     "data": {
      "text/plain": [
       "nil"
      ]
     },
     "execution_count": 32,
     "metadata": {},
     "output_type": "execute_result"
    }
   ],
   "source": [
    "(clojure.repl/doc chan)"
   ]
  },
  {
   "cell_type": "markdown",
   "metadata": {},
   "source": [
    "We can test the blocking-on-unbuffered case as follows. The following code will block at the line `(>!! c 42)`, as you'll find if you uncomment the code (remove `#_` at the beginning) and run it. You'll have to interrupt the Kernel using the \"Kernel\" menu at the top of the notebook, and you might have to restart the Kernel, but you should try it once."
   ]
  },
  {
   "cell_type": "code",
   "execution_count": 33,
   "metadata": {},
   "outputs": [],
   "source": [
    "#_(let [c (chan)]\n",
    "    (>!! c 42)\n",
    "    (println (<!! c))\n",
    "    (close! c))"
   ]
  },
  {
   "cell_type": "markdown",
   "metadata": {},
   "source": [
    "The following variation works fine because we made \"buffer space\" before writing to the channel. The only difference to the above is the $1$ argument to the call of `chan`. "
   ]
  },
  {
   "cell_type": "code",
   "execution_count": 34,
   "metadata": {},
   "outputs": [
    {
     "name": "stdout",
     "output_type": "stream",
     "text": [
      "42\n"
     ]
    },
    {
     "data": {
      "text/plain": [
       "nil"
      ]
     },
     "execution_count": 34,
     "metadata": {},
     "output_type": "execute_result"
    }
   ],
   "source": [
    "(let [c (chan 1)]\n",
    "    (>!! c 42)\n",
    "    (println (<!! c))\n",
    "    (close! c))"
   ]
  },
  {
   "cell_type": "markdown",
   "metadata": {},
   "source": [
    "The difference between the semantics of the prior two examples is not subtle: one hangs the kernel and the other does not. However, the difference in the syntax is subtle and easy to miss. "
   ]
  },
  {
   "cell_type": "markdown",
   "metadata": {},
   "source": [
    "We can read on the asynchronous `go` pool from the buffered channel `c` because the buffered write `(>!! c)` on the UI thread doesn't block:"
   ]
  },
  {
   "cell_type": "code",
   "execution_count": 16,
   "metadata": {},
   "outputs": [
    {
     "name": "stdout",
     "output_type": "stream",
     "text": [
      "{:go-channel-coughs-up 42}\n"
     ]
    },
    {
     "data": {
      "text/plain": [
       "nil"
      ]
     },
     "execution_count": 16,
     "metadata": {},
     "output_type": "execute_result"
    }
   ],
   "source": [
    "(let [c (chan 1)]\n",
    "    (>!! c 42)\n",
    "    (println {:go-channel-coughs-up (<!! (go (<! c)))})\n",
    "    (close! c))"
   ]
  },
  {
   "cell_type": "markdown",
   "metadata": {},
   "source": [
    "#### ORDER DOESN'T MATTER, SOMEIMES"
   ]
  },
  {
   "cell_type": "markdown",
   "metadata": {},
   "source": [
    "We can do things backwards, reading before writing, even without a buffer. Read from channel `(<! c)` on the async `go` thread \"before\" writing to `(>!! c 42)` on the REPL / UI thread. \"Before,\" here, of course, means syntactically or lexically \"before,\" not temporally. "
   ]
  },
  {
   "cell_type": "code",
   "execution_count": 25,
   "metadata": {},
   "outputs": [
    {
     "name": "stdout",
     "output_type": "stream",
     "text": [
      "{:c-hangs (<!! c), :d-coughs-up 42, :what's-e true}\n"
     ]
    },
    {
     "data": {
      "text/plain": [
       "nil"
      ]
     },
     "execution_count": 25,
     "metadata": {},
     "output_type": "execute_result"
    }
   ],
   "source": [
    "(let [c (chan) ;; NO BUFFER!\n",
    "      d (go (<! c)) ;; park a pseudothread to read c\n",
    "      e (>!! c 42)] ;; blocking write unparks c's pseudothread\n",
    "    (println {:c-hangs '(<!! c),\n",
    "              :d-coughs-up (<!! d),\n",
    "              :what's-e    e})\n",
    "    (close! c) (close! d))"
   ]
  },
  {
   "cell_type": "markdown",
   "metadata": {},
   "source": [
    "Why did `>!!` produce `true`? Look at docs again:"
   ]
  },
  {
   "cell_type": "code",
   "execution_count": 26,
   "metadata": {},
   "outputs": [
    {
     "name": "stdout",
     "output_type": "stream",
     "text": [
      "-------------------------\n",
      "clojure.core.async/>!!\n",
      "([port val])\n",
      "  puts a val into port. nil values are not allowed. Will block if no\n",
      "  buffer space is available. Returns true unless port is already closed.\n"
     ]
    },
    {
     "data": {
      "text/plain": [
       "nil"
      ]
     },
     "execution_count": 26,
     "metadata": {},
     "output_type": "execute_result"
    }
   ],
   "source": [
    "(clojure.repl/doc >!!)"
   ]
  },
  {
   "cell_type": "markdown",
   "metadata": {},
   "source": [
    "Ok, now I fault the documentation. `>!!` will block if there is no buffer space available _and_ if there is no _rendezvous_ available, that is, no pseudothread parked waiting for `<!`. I have an open question in the Google group for Clojure about this issue with the documentation."
   ]
  },
  {
   "cell_type": "markdown",
   "metadata": {},
   "source": [
    "To get the value written in into `c`, we must read `d`. If we tried to read it from `c`, we would block forever because `>!!` blocks when there is no buffer space, and `c` never has buffer space. We get the value out of the `go` nebula by short-circuiting the buffer, by a rendezvous, as explained above."
   ]
  },
  {
   "cell_type": "markdown",
   "metadata": {},
   "source": [
    "`e`'s being true means that `c` wasn't closed. `(>!! c 42)` should hang."
   ]
  },
  {
   "cell_type": "code",
   "execution_count": 29,
   "metadata": {},
   "outputs": [
    {
     "name": "stdout",
     "output_type": "stream",
     "text": [
      "{:c-coughs-up (hangs (<!! c)), :d-coughs-up 42, :what's-e true, :what's-f (hangs (>!! c 43))}\n"
     ]
    },
    {
     "data": {
      "text/plain": [
       "nil"
      ]
     },
     "execution_count": 29,
     "metadata": {},
     "output_type": "execute_result"
    }
   ],
   "source": [
    "(let [c (chan) ;; NO BUFFER!\n",
    "      d (go (<! c)) ;; park a pseudothread to read c\n",
    "      e (>!! c 42)  ;; blocking write unparks c's pseudothread\n",
    "      f '(hangs (>!! c 43))] ;; is `c` closed?\n",
    "    (println {:c-coughs-up '(hangs (<!! c)),\n",
    "              :d-coughs-up (<!! d),\n",
    "              :what's-e    e,\n",
    "              :what's-f    f})\n",
    "    (close! c) (close! d))"
   ]
  },
  {
   "cell_type": "markdown",
   "metadata": {},
   "source": [
    "Stackoverflow reveals a way to find out whether a channel is closed by peeking under the covers (https://stackoverflow.com/questions/24912971):"
   ]
  },
  {
   "cell_type": "code",
   "execution_count": 31,
   "metadata": {},
   "outputs": [
    {
     "name": "stdout",
     "output_type": "stream",
     "text": [
      "{:c-coughs-up (hangs (<!! c)), :d-coughs-up 42, :c-is-open-at-e? true, :c-is-open-at-f? false}\n"
     ]
    },
    {
     "data": {
      "text/plain": [
       "nil"
      ]
     },
     "execution_count": 31,
     "metadata": {},
     "output_type": "execute_result"
    }
   ],
   "source": [
    "(let [c (chan) ;; NO BUFFER!\n",
    "      d (go (<! c)) ;; park a pseudothread to read c\n",
    "      e (>!! c 42)  ;; blocking write unparks c's pseudothread\n",
    "      f (clojure.core.async.impl.protocols/closed? c)]\n",
    "    (println {:c-coughs-up '(hangs (<!! c)),\n",
    "              :d-coughs-up (<!! d),\n",
    "              :c-is-open-at-e?  e,\n",
    "              :c-is-open-at-f?  f})\n",
    "    (close! c) (close! d))"
   ]
  },
  {
   "cell_type": "markdown",
   "metadata": {},
   "source": [
    "#### ORDER DOES MATTER, SOMETIMES"
   ]
  },
  {
   "cell_type": "markdown",
   "metadata": {},
   "source": [
    "Order does matter this time: Writing blocks the UI thread without a buffer and no parked read (rendezvous) in the `go` nebula beforehand. I hope you can predict that the following will block even before you run it. To be sure, run it, but you'll have to interrupt the kernel as before."
   ]
  },
  {
   "cell_type": "code",
   "execution_count": 46,
   "metadata": {},
   "outputs": [],
   "source": [
    "#_(let [c (chan)\n",
    "      e (>!! c 42) ;; blocks forever\n",
    "      d (go (<! c))]\n",
    "    (println {:c-coughs-up '(this will hang (<!! c)),\n",
    "              :d-coughs-up (<!! d),\n",
    "              :what's-e    e})\n",
    "    (close! c) (close! d))"
   ]
  },
  {
   "cell_type": "markdown",
   "metadata": {},
   "source": [
    "### TIMEOUTS: DON'T  BLOCK FOREVER"
   ]
  },
  {
   "cell_type": "markdown",
   "metadata": {},
   "source": [
    "In all cases, blocking calls like [`>!!`](https://clojuredocs.org/clojure.core.async/%3E!!) to unbuffered channels without timeout must appear _last_ on the UI, non-`go`, thread, and then only if there is some parked pseudothread that's waiting to read the channel by short-circuit (rendezvous). If we block too early, we won't get to the line that launches the async `go` nebula and parks the short-cicuitable pseudothread---parks the rendezvous."
   ]
  },
  {
   "cell_type": "markdown",
   "metadata": {},
   "source": [
    "The UI thread won't block forever if we add a timeout. `alts!!` is a way to do that. The [documentation](https://clojuredocs.org/clojure.core.async/alts!!) and [examples](https://clojuredocs.org/clojure.core.async/alts!!) are difficult, but, loosely quoting (emphasis and edits are mine, major ones in square brackets):\n",
    "\n",
    "> `(alts!! ports & {:as opts})`\n",
    "\n",
    "This destructures all keyword options into opts. We don't need opts or the `:as` keyword here.\n",
    "\n",
    "> Completes at most one of several channel operations. [_Not for use\n",
    "inside a (go ...) block._] **ports is a vector of channel endpoints**,\n",
    "which can be either a channel to take from or a vector of\n",
    "`[channel-to-put-to val-to-put]`, in any combination. Takes will be\n",
    "made as if by `<!!`, and puts will be made as if by `>!!`. Unless\n",
    "the `:priority` option is true, if more than one port operation is\n",
    "ready, a non-deterministic choice will be made. If no operation is\n",
    "ready and a `:default` value is supplied, [`default-val :default`] will\n",
    "be returned, otherwise `alts!!` will [_block_ xxxxpark ?] until the first operation to\n",
    "become ready completes. **Returns `[val port]` of the completed\n",
    "operation**, where `val` is the value taken for takes, and a\n",
    "boolean (`true` unless already closed, as per `put!`) for puts.\n",
    " `opts` are passed as `:key val` ... Supported options:\n",
    " `:default val` - the value to use if none of the operations are immediately ready\n",
    "`:priority true` - (default `nil`) when `true`, the operations will be tried in order.\n",
    " Note: there is no guarantee that the port exps or val exprs will be\n",
    "used, nor in what order should they be, so they should not be\n",
    "depended upon for side effects.\n",
    "\n",
    "`(alts!! ...)` returns a `[val port]` 2-vector.\n",
    "\n",
    "`(second (alts!! ...))` is a wrapper of channel `c` We can't write to the resulting `timeout` channel because we didn't give it a name."
   ]
  },
  {
   "cell_type": "markdown",
   "metadata": {},
   "source": [
    "That's a lot of stuff, but we can divine an idiom: pair a channel `c` that _might_ block with a fresh `timeout` channel in an `alts!!`. At most one will complete. If `c` blocks, the `timeout` will cough up. If `c` coughs up before the `timeout` expires, the `timeout` quietly dies (question, is it closed? Will it be left open and leak?)"
   ]
  },
  {
   "cell_type": "markdown",
   "metadata": {},
   "source": [
    "For a first example, let's make a buffered thread that won't block and pair it with a long timeout. You will see that it's OK to write $43$ into this channel (the `[c 43]` term is an implied write; that's clear from the documentation). `c` won't block because it's buffered, it returns immediately, long before the `timeout` could expire. "
   ]
  },
  {
   "cell_type": "code",
   "execution_count": 47,
   "metadata": {},
   "outputs": [
    {
     "name": "stdout",
     "output_type": "stream",
     "text": [
      "{:c\n",
      " #object[clojure.core.async.impl.channels.ManyToManyChannel 0x278f2d1c \"clojure.core.async.impl.channels.ManyToManyChannel@278f2d1c\"],\n",
      " :a\n",
      " [true\n",
      "  #object[clojure.core.async.impl.channels.ManyToManyChannel 0x278f2d1c \"clojure.core.async.impl.channels.ManyToManyChannel@278f2d1c\"]]}\n",
      "{:d-returns 43}\n"
     ]
    },
    {
     "data": {
      "text/plain": [
       "nil"
      ]
     },
     "execution_count": 47,
     "metadata": {},
     "output_type": "execute_result"
    }
   ],
   "source": [
    "(let [c (chan 1)\n",
    "      a (alts!! ; outputs a [val port] pair; throw away the val\n",
    "                ; here are the two channels for `alts!!`\n",
    "        [[c 43] (timeout 2500)])]\n",
    "    (clojure.pprint/pprint {:c c, :a a})\n",
    "    (let [d (go (<! c))]\n",
    "        (println {:d-returns (<!! d)}))\n",
    "    (close! c))"
   ]
  },
  {
   "cell_type": "markdown",
   "metadata": {},
   "source": [
    "But, if we take away the buffer, the `timeout` channel wins. The only difference to the above is that instead of creating `c` via `(chan 1)`, that is, with a buffer of length $1$, we create it with no buffer (and we quoted out the blocking read of `d` with a tick mark)."
   ]
  },
  {
   "cell_type": "code",
   "execution_count": 48,
   "metadata": {},
   "outputs": [
    {
     "name": "stdout",
     "output_type": "stream",
     "text": [
      "{:c\n",
      " #object[clojure.core.async.impl.channels.ManyToManyChannel 0x7b0ab79 \"clojure.core.async.impl.channels.ManyToManyChannel@7b0ab79\"],\n",
      " :a\n",
      " [nil\n",
      "  #object[clojure.core.async.impl.channels.ManyToManyChannel 0x292dfa5c \"clojure.core.async.impl.channels.ManyToManyChannel@292dfa5c\"]]}\n",
      "{:d-is #object[clojure.core.async.impl.channels.ManyToManyChannel 0x7d67e933 clojure.core.async.impl.channels.ManyToManyChannel@7d67e933]}\n"
     ]
    },
    {
     "data": {
      "text/plain": [
       "nil"
      ]
     },
     "execution_count": 48,
     "metadata": {},
     "output_type": "execute_result"
    }
   ],
   "source": [
    "(let [c (chan)\n",
    "      a (alts!! ; outputs a [val port] pair; throw away the val\n",
    "                ; here are the two channels for `alts!!`\n",
    "        [[c 43] (timeout 2500)])]\n",
    "    (clojure.pprint/pprint {:c c, :a a})\n",
    "    (let [d (go (<! c))]\n",
    "        (println {:d-is d})\n",
    "        '(println {:d-returns (<!! d)})) ;; blocks\n",
    "    (close! c))"
   ]
  },
  {
   "cell_type": "markdown",
   "metadata": {},
   "source": [
    "# ASYNC DATA STREAMS"
   ]
  },
  {
   "cell_type": "markdown",
   "metadata": {},
   "source": [
    "The following writes at random times (`>!`) to a parking channel `echo-chan` on an async `go` fast pseudothread. The UI thread block-reads (`<!!`) some data from `echo-chan`. The UI thread leaves values in the channel and thus leaks the channel according to the documentation for `close!` here https://clojure.github.io/core.async/api-index.html#C. To prevent the leak permanently, we close the channel explicitly."
   ]
  },
  {
   "cell_type": "code",
   "execution_count": 36,
   "metadata": {},
   "outputs": [
    {
     "name": "stdout",
     "output_type": "stream",
     "text": [
      "0.828305\n",
      "-0.0121089\n",
      "-0.676357\n",
      "{:echo-chan-closed? false}\n",
      "{:echo-chan-closed? true}\n"
     ]
    },
    {
     "data": {
      "text/plain": [
       "nil"
      ]
     },
     "execution_count": 36,
     "metadata": {},
     "output_type": "execute_result"
    }
   ],
   "source": [
    "(def echo-chan (chan))\n",
    "\n",
    "(doseq   [z zs] (go (Thread/sleep (rand 100)) (>! echo-chan z)))\n",
    "(dotimes [_ 3] (println (<!! echo-chan)))\n",
    "\n",
    "(println {:echo-chan-closed? (clojure.core.async.impl.protocols/closed? echo-chan)})\n",
    "(close! echo-chan)\n",
    "(println {:echo-chan-closed? (clojure.core.async.impl.protocols/closed? echo-chan)})"
   ]
  },
  {
   "cell_type": "markdown",
   "metadata": {},
   "source": [
    "We can chain channels, again with leaks that we explicitly close:"
   ]
  },
  {
   "cell_type": "code",
   "execution_count": 37,
   "metadata": {},
   "outputs": [
    {
     "name": "stdout",
     "output_type": "stream",
     "text": [
      "-1.48014\n",
      "-0.0121089\n",
      "0.828305\n"
     ]
    },
    {
     "data": {
      "text/plain": [
       "nil"
      ]
     },
     "execution_count": 37,
     "metadata": {},
     "output_type": "execute_result"
    }
   ],
   "source": [
    "(def echo-chan (chan))\n",
    "(def repl-chan (chan))\n",
    "\n",
    "(dotimes [_ 10] (go (>! repl-chan (<! echo-chan))))\n",
    "(doseq   [z zs] (go (Thread/sleep (rand 100)) (>! echo-chan z)))\n",
    "(dotimes [_ 3] \n",
    "    (println (<!! (second (alts!! [repl-chan (timeout 500)])))))\n",
    "\n",
    "(close! echo-chan)\n",
    "(close! repl-chan)"
   ]
  },
  {
   "cell_type": "markdown",
   "metadata": {},
   "source": [
    "Reading from `echo-chan` may hang the UI thread because the UI thread races the internal thread that reads `echo-chan`, but the timeout trick works here as above. "
   ]
  },
  {
   "cell_type": "code",
   "execution_count": 58,
   "metadata": {},
   "outputs": [
    {
     "name": "stdout",
     "output_type": "stream",
     "text": [
      "nil\n",
      "nil\n",
      "nil\n"
     ]
    },
    {
     "data": {
      "text/plain": [
       "nil"
      ]
     },
     "execution_count": 58,
     "metadata": {},
     "output_type": "execute_result"
    }
   ],
   "source": [
    "(def echo-chan (chan))\n",
    "(def repl-chan (chan))\n",
    "\n",
    "(dotimes [_ 10] (go (>! repl-chan (<! echo-chan))))\n",
    "(doseq   [z zs] (go (Thread/sleep (rand 100)) (>! echo-chan z)))\n",
    "(dotimes [_ 3] (println (<!! (second (alts!! [echo-chan (timeout 500)])))))\n",
    "\n",
    "(close! echo-chan)\n",
    "(close! repl-chan)"
   ]
  },
  {
   "cell_type": "markdown",
   "metadata": {},
   "source": [
    "`println` on a `go` pseudoprocess works if we wait long enough. This, of course, is bad practice or \"code smell.\""
   ]
  },
  {
   "cell_type": "code",
   "execution_count": 59,
   "metadata": {},
   "outputs": [
    {
     "name": "stdout",
     "output_type": "stream",
     "text": [
      "-0.315044\n",
      "-1.48014\n",
      "-0.324796\n"
     ]
    },
    {
     "data": {
      "text/plain": [
       "nil"
      ]
     },
     "execution_count": 59,
     "metadata": {},
     "output_type": "execute_result"
    }
   ],
   "source": [
    "(def echo-chan (chan))\n",
    "\n",
    "(doseq   [z zs] (go (Thread/sleep (rand 100)) (>! echo-chan z)))\n",
    "(dotimes [_ 3]  (go (println (<! echo-chan))))\n",
    "\n",
    "(Thread/sleep 500) ; no visible output if you remove this line.\n",
    "(close! echo-chan)"
   ]
  },
  {
   "cell_type": "markdown",
   "metadata": {},
   "source": [
    "## ASYNC RUNNING MEAN"
   ]
  },
  {
   "cell_type": "markdown",
   "metadata": {},
   "source": [
    "### ASYNC-RANDOMIZED-SCAN"
   ]
  },
  {
   "cell_type": "markdown",
   "metadata": {},
   "source": [
    "We want `running-stats` called at random times and with data in random order. A _transducer_, `(map mapper)`, lets us collect items off the buffer. The size of the buffer does not matter, but we must specify it. Notice that the side-effector `effector` is passed in, so `async-randomized-scan` remains decoupled from its environment. \n",
    "\n",
    "In this style of programming, the asynchronous stream might sometimes be called a _functor_, which is anything that's mappable, anything you can `map` over."
   ]
  },
  {
   "cell_type": "code",
   "execution_count": 32,
   "metadata": {},
   "outputs": [
    {
     "name": "stdout",
     "output_type": "stream",
     "text": [
      "{:count 1, :mean -1.48014, :datum -1.48014}\n",
      "{:count 2, :mean -0.897592, :datum -0.315044}\n",
      "{:count 3, :mean -0.8844493333333333, :datum -0.858164}\n",
      "{:count 4, :mean -0.6225845, :datum 0.16301}\n",
      "{:count 5, :mean -0.3324066, :datum 0.828305}\n",
      "{:count 6, :mean -0.3311381666666667, :datum -0.324796}\n",
      "{:count 7, :mean -0.3804551428571429, :datum -0.676357}\n",
      "{:count 8, :mean -0.3254951625, :datum 0.0592247}\n",
      "{:count 9, :mean -0.30917947777777777, :datum -0.178654}\n",
      "{:count 10, :mean -0.27947242, :datum -0.0121089}\n"
     ]
    },
    {
     "data": {
      "text/plain": [
       "nil"
      ]
     },
     "execution_count": 32,
     "metadata": {},
     "output_type": "execute_result"
    }
   ],
   "source": [
    "(defn async-randomized-scan [zs mapper effector]\n",
    "    (let [transducer (map mapper)\n",
    "          ; give buffer length if there is a transducer\n",
    "          echo-chan (chan (buffer 1) transducer)]\n",
    "        (doseq [z zs] \n",
    "            (go (Thread/sleep (rand 100)) (>! echo-chan z)))\n",
    "        (dotimes [_ (count zs)] (effector (<!! echo-chan)))\n",
    "        (close! echo-chan)))\n",
    "\n",
    "(async-randomized-scan zs (make-running-stats-mapper) println)"
   ]
  },
  {
   "cell_type": "markdown",
   "metadata": {},
   "source": [
    "We don't need to explicitly say `buffer`, but I prefer the example above to the one below. The only difference is the nested call to `buffer` above versus the naked buffer length below. I think the explicit call of `buffer` is easier to read because you don't have to remember the meaning of the naked $1$."
   ]
  },
  {
   "cell_type": "code",
   "execution_count": 33,
   "metadata": {},
   "outputs": [
    {
     "name": "stdout",
     "output_type": "stream",
     "text": [
      "{:count 1, :mean -0.315044, :datum -0.315044}\n",
      "{:count 2, :mean -0.4957005, :datum -0.676357}\n",
      "{:count 3, :mean -0.31072543333333336, :datum 0.0592247}\n",
      "{:count 4, :mean -0.2360713, :datum -0.0121089}\n",
      "{:count 5, :mean -0.25381624, :datum -0.324796}\n",
      "{:count 6, :mean -0.18434520000000004, :datum 0.16301}\n",
      "{:count 7, :mean -0.03968088571428577, :datum 0.828305}\n",
      "{:count 8, :mean -0.05705252500000005, :datum -0.178654}\n",
      "{:count 9, :mean -0.21517335555555558, :datum -1.48014}\n",
      "{:count 10, :mean -0.27947242000000005, :datum -0.858164}\n"
     ]
    },
    {
     "data": {
      "text/plain": [
       "nil"
      ]
     },
     "execution_count": 33,
     "metadata": {},
     "output_type": "execute_result"
    }
   ],
   "source": [
    "(defn async-randomized-scan [zs mapper effector]\n",
    "    (let [transducer (map mapper)\n",
    "          ; give buffer length if there is a transducer\n",
    "          echo-chan (chan 1 transducer)]\n",
    "        (doseq [z zs] \n",
    "            (go (Thread/sleep (rand 100)) (>! echo-chan z)))\n",
    "        (dotimes [_ (count zs)] (effector (<!! echo-chan)))\n",
    "        (close! echo-chan)))\n",
    "\n",
    "(async-randomized-scan zs (make-running-stats-mapper) println)"
   ]
  },
  {
   "cell_type": "markdown",
   "metadata": {},
   "source": [
    "### NOT RANDOMIZED"
   ]
  },
  {
   "cell_type": "markdown",
   "metadata": {},
   "source": [
    "Of course, the `mean` of any permutation of the data `zs` is the same, so the order in which data arrive does not change the final result."
   ]
  },
  {
   "cell_type": "code",
   "execution_count": 34,
   "metadata": {},
   "outputs": [
    {
     "name": "stdout",
     "output_type": "stream",
     "text": [
      "{:count 1, :mean -0.178654, :datum -0.178654}\n",
      "{:count 2, :mean 0.3248255, :datum 0.828305}\n",
      "{:count 3, :mean 0.2362919, :datum 0.0592247}\n",
      "{:count 4, :mean 0.1741917, :datum -0.0121089}\n",
      "{:count 5, :mean -0.15667464000000003, :datum -1.48014}\n",
      "{:count 6, :mean -0.18306953333333337, :datum -0.315044}\n",
      "{:count 7, :mean -0.20331617142857145, :datum -0.324796}\n",
      "{:count 8, :mean -0.262446275, :datum -0.676357}\n",
      "{:count 9, :mean -0.21517335555555556, :datum 0.16301}\n",
      "{:count 10, :mean -0.27947242, :datum -0.858164}\n"
     ]
    },
    {
     "data": {
      "text/plain": [
       "nil"
      ]
     },
     "execution_count": 34,
     "metadata": {},
     "output_type": "execute_result"
    }
   ],
   "source": [
    "(defn async-non-random-scan [zs mapper effector]\n",
    "    (let [transducer (map mapper)\n",
    "          echo-chan (chan (buffer 1) transducer)]\n",
    "        (go (doseq [z zs] (>! echo-chan z)))\n",
    "        (dotimes [_ (count zs)] (effector (<!! echo-chan)))\n",
    "        (close! echo-chan)))\n",
    "\n",
    "(async-non-random-scan zs (make-running-stats-mapper) println)"
   ]
  },
  {
   "cell_type": "markdown",
   "metadata": {},
   "source": [
    "### SYNC-SCAN WITH TRANSDUCER"
   ]
  },
  {
   "cell_type": "markdown",
   "metadata": {},
   "source": [
    "Here is the modern way, with `transduce`, to reduce over a sequence of data, in order. It's equivalent to the non-random async version above. The [documentation for transduce](https://clojuredocs.org/clojure.core/transduce) writes its parameters as `xform f coll`, and then says\n",
    "\n",
    "> reduce with a transformation of `f (xf)`. If `init` is not\n",
    "supplied, `(f)` will be called to produce it. \n",
    "\n",
    "Our `xform` is `transducer`, or `(map mapper)`, and our `f` is `conj`, so this is an idiom for mapping because `(conj)`, with no arguments, returns `[]`, an appropriate `init`."
   ]
  },
  {
   "cell_type": "code",
   "execution_count": 35,
   "metadata": {},
   "outputs": [
    {
     "name": "stdout",
     "output_type": "stream",
     "text": [
      "[{:count 1, :mean -0.178654, :datum -0.178654}\n",
      " {:count 2, :mean 0.3248255, :datum 0.828305}\n",
      " {:count 3, :mean 0.2362919, :datum 0.0592247}\n",
      " {:count 4, :mean 0.1741917, :datum -0.0121089}\n",
      " {:count 5, :mean -0.15667464000000003, :datum -1.48014}\n",
      " {:count 6, :mean -0.18306953333333337, :datum -0.315044}\n",
      " {:count 7, :mean -0.20331617142857145, :datum -0.324796}\n",
      " {:count 8, :mean -0.262446275, :datum -0.676357}\n",
      " {:count 9, :mean -0.21517335555555556, :datum 0.16301}\n",
      " {:count 10, :mean -0.27947242, :datum -0.858164}]\n"
     ]
    },
    {
     "data": {
      "text/plain": [
       "nil"
      ]
     },
     "execution_count": 35,
     "metadata": {},
     "output_type": "execute_result"
    }
   ],
   "source": [
    "(defn sync-scan [zs mapper]\n",
    "    (let [transducer (map mapper)]\n",
    "        (transduce transducer conj zs)))\n",
    "\n",
    "(clojure.pprint/pprint (sync-scan zs (make-running-stats-mapper)))"
   ]
  },
  {
   "cell_type": "markdown",
   "metadata": {},
   "source": [
    "We now have complete parity between space (vector `zs`) and time (values on `echo-chan` in random order)."
   ]
  },
  {
   "cell_type": "markdown",
   "metadata": {},
   "source": [
    "# RUNNING STDDEV"
   ]
  },
  {
   "cell_type": "markdown",
   "metadata": {},
   "source": [
    "## BRUTE-FORCE (SCALAR VERSION)"
   ]
  },
  {
   "cell_type": "markdown",
   "metadata": {},
   "source": [
    "The definition of variance is the following, for $N>1$:"
   ]
  },
  {
   "cell_type": "markdown",
   "metadata": {},
   "source": [
    "$$\\frac{1}{N-1}\\sum\\limits_{i=1}^{N}\\left({z_i-\\bar{z}_N}\\right)^2\\tag{1}$$"
   ]
  },
  {
   "cell_type": "markdown",
   "metadata": {},
   "source": [
    "The sum is the _sum of squared residuals_. Each residual is the difference between the $i$&#8209;th datum $z_i$ and the mean $\\bar{z}_N$ of all $N$ data in the sample. The outer constant, $1/(N-1)$ is [Bessel's correction](https://en.wikipedia.org/wiki/Bessel%27s_correction)."
   ]
  },
  {
   "cell_type": "markdown",
   "metadata": {},
   "source": [
    "### SSR: SUM OF SQUARED RESIDUALS"
   ]
  },
  {
   "cell_type": "markdown",
   "metadata": {},
   "source": [
    "The following is _brute-force_ in the sense that it requires all data up-front so that it can calculate the mean."
   ]
  },
  {
   "cell_type": "code",
   "execution_count": 67,
   "metadata": {},
   "outputs": [
    {
     "data": {
      "text/plain": [
       "3.5566483654807355"
      ]
     },
     "execution_count": 67,
     "metadata": {},
     "output_type": "execute_result"
    }
   ],
   "source": [
    "(defn ssr [sequ]\n",
    "    (let [m (mean sequ)]\n",
    "        (reduce #(+ %1 (* (- %2 m) (- %2 m)))\n",
    "                0 sequ)))\n",
    "(ssr zs)"
   ]
  },
  {
   "cell_type": "markdown",
   "metadata": {},
   "source": [
    "### VARIANCE"
   ]
  },
  {
   "cell_type": "markdown",
   "metadata": {},
   "source": [
    "Call `ssr` to compute variance:"
   ]
  },
  {
   "cell_type": "code",
   "execution_count": 68,
   "metadata": {},
   "outputs": [
    {
     "data": {
      "text/plain": [
       "0.3951831517200817"
      ]
     },
     "execution_count": 68,
     "metadata": {},
     "output_type": "execute_result"
    }
   ],
   "source": [
    "(defn variance [sequ]\n",
    "    (let [n (count sequ)]\n",
    "        (case n\n",
    "            0 0\n",
    "            1 (first sequ)\n",
    "            #_default (/ (ssr sequ) (- n 1.0)))))\n",
    "(variance zs)"
   ]
  },
  {
   "cell_type": "markdown",
   "metadata": {},
   "source": [
    "### SMALLER EXAMPLE"
   ]
  },
  {
   "cell_type": "markdown",
   "metadata": {},
   "source": [
    "Let's do a smaller example:"
   ]
  },
  {
   "cell_type": "code",
   "execution_count": 69,
   "metadata": {},
   "outputs": [
    {
     "data": {
      "text/plain": [
       "2017.0"
      ]
     },
     "execution_count": 69,
     "metadata": {},
     "output_type": "execute_result"
    }
   ],
   "source": [
    "(def z2s [55. 89. 144.])\n",
    "(variance z2s)"
   ]
  },
  {
   "cell_type": "markdown",
   "metadata": {},
   "source": [
    "#### REALLY DUMB RECURRENCE"
   ]
  },
  {
   "cell_type": "markdown",
   "metadata": {},
   "source": [
    "Remember our general form for recurrences, $x\\leftarrow{}x + K\\times{}(z-x)$?\n",
    "\n",
    "This is really dumb because\n",
    "1. it requires the whole sequence up front, so it doesn't run in constant memory\n",
    "3. the intermediate values are meaningless because they refer to the final mean and count, not to the intermediate ones\n",
    "\n",
    "But, the final value is correct."
   ]
  },
  {
   "cell_type": "code",
   "execution_count": 70,
   "metadata": {},
   "outputs": [
    {
     "data": {
      "text/plain": [
       "(0 840.5 865.0 2017.0)"
      ]
     },
     "execution_count": 70,
     "metadata": {},
     "output_type": "execute_result"
    }
   ],
   "source": [
    "(reductions \n",
    "    (let [m (mean z2s) ; uh-oh, we refer to _all_ the data ??\n",
    "          c (count z2s)]\n",
    "        (fn [var z] (+ var (let [r (- z m)] ; residual\n",
    "                               (/ (* r r) (- c 1.0))))))\n",
    "    0 z2s)"
   ]
  },
  {
   "cell_type": "markdown",
   "metadata": {},
   "source": [
    "This is sufficiently dumb that we won't bother with a thread-safe, stateful, or asynchronous form."
   ]
  },
  {
   "cell_type": "markdown",
   "metadata": {},
   "source": [
    "#### SCHOOL VARIANCE"
   ]
  },
  {
   "cell_type": "markdown",
   "metadata": {},
   "source": [
    "Easy, school-level exercise: prove the following equation:"
   ]
  },
  {
   "cell_type": "markdown",
   "metadata": {},
   "source": [
    "$$\\frac{1}{N-1}\\sum\\limits_{i=1}^{N}\\left({z_i-\\bar{z}_N}\\right)^2 =\n",
    "\\frac{1}{N-1}\\left(\\sum\\limits_{i=1}^{N}\\left(z_i^2\\right)-N\\,{\\bar{z}_N^2}\\right)\\tag{2}$$"
   ]
  },
  {
   "cell_type": "markdown",
   "metadata": {},
   "source": [
    "Instead of the sum of squared residuals, $ssr$, accumulate the sum of squares, $ssq$. \n",
    "\n",
    "_School variance_ is exposed to _catastrophic cancellation_ because $ssq$ grows quickly. We fix that defect below. \n",
    "\n",
    "We see that something is not best with this form because we don't use the old variance to compute the new variance. We do better below.\n",
    "\n",
    "Of course, the same mapper works synchronously and asynchronously."
   ]
  },
  {
   "cell_type": "markdown",
   "metadata": {},
   "source": [
    "### MAKE-SCHOOL-STATS-MAPPER"
   ]
  },
  {
   "cell_type": "markdown",
   "metadata": {},
   "source": [
    "Test it both synchronously and asynchronously, randomized and not:"
   ]
  },
  {
   "cell_type": "code",
   "execution_count": 76,
   "metadata": {},
   "outputs": [
    {
     "name": "stdout",
     "output_type": "stream",
     "text": [
      "[{:count 1, :mean 55.0, :variance 0.0, :ssq 3025.0}\n",
      " {:count 2, :mean 72.0, :variance 578.0, :ssq 10946.0}\n",
      " {:count 3, :mean 96.0, :variance 2017.0, :ssq 31682.0}]\n",
      "{:count 1, :mean 89.0, :variance 0.0, :ssq 7921.0}\n",
      "{:count 2, :mean 72.0, :variance 578.0, :ssq 10946.0}\n",
      "{:count 3, :mean 96.0, :variance 2017.0, :ssq 31682.0}\n",
      "{:count 1, :mean 55.0, :variance 0.0, :ssq 3025.0}\n",
      "{:count 2, :mean 72.0, :variance 578.0, :ssq 10946.0}\n",
      "{:count 3, :mean 96.0, :variance 2017.0, :ssq 31682.0}\n"
     ]
    },
    {
     "data": {
      "text/plain": [
       "nil"
      ]
     },
     "execution_count": 76,
     "metadata": {},
     "output_type": "execute_result"
    }
   ],
   "source": [
    "(defn make-school-stats-mapper []\n",
    "    (let [running-stats (atom {:count 0, :mean 0, \n",
    "                               :variance 0, :ssq 0})]\n",
    "        (fn [z]\n",
    "            (let [{x :mean, n :count, s :ssq} @running-stats\n",
    "                  n+1 (inc n)\n",
    "                  K   (/ 1.0 n+1)\n",
    "                  r   (- z x)\n",
    "                  x'  (+ x (* K r)) ;; Isn't it nice we can use prime notation?\n",
    "                  s'  (+ s (* z z))]\n",
    "                (swap! running-stats conj\n",
    "                       [:count    n+1]\n",
    "                       [:mean     x' ]\n",
    "                       [:ssq      s']\n",
    "                       [:variance (/ (- s' (* n+1 x' x')) (max 1 n))]))\n",
    "            @running-stats)))\n",
    "\n",
    "(clojure.pprint/pprint (sync-scan z2s (make-school-stats-mapper)))\n",
    "\n",
    "(async-randomized-scan z2s (make-school-stats-mapper) println)\n",
    "\n",
    "(async-non-random-scan z2s (make-school-stats-mapper) println)"
   ]
  },
  {
   "cell_type": "markdown",
   "metadata": {},
   "source": [
    "#### RECURRENT VARIANCE"
   ]
  },
  {
   "cell_type": "markdown",
   "metadata": {},
   "source": [
    "We already know the recurrence for the mean:"
   ]
  },
  {
   "cell_type": "markdown",
   "metadata": {},
   "source": [
    "$$x\\leftarrow{x+K\\cdot(z-x)=x+\\frac{1}{n+1}(z-x)}\\tag{3}$$"
   ]
  },
  {
   "cell_type": "markdown",
   "metadata": {},
   "source": [
    "The recurrence for the variance takes a little work to prove, but it's still a school-level exercise:"
   ]
  },
  {
   "cell_type": "markdown",
   "metadata": {},
   "source": [
    "$$v\\leftarrow\\frac{\\left(n-1\\right)v+K\\,n\\,\\left(z-x\\right)^2}{\\max(1,n)}\\tag{4}$$"
   ]
  },
  {
   "cell_type": "code",
   "execution_count": 77,
   "metadata": {},
   "outputs": [
    {
     "name": "stdout",
     "output_type": "stream",
     "text": [
      "{:count 1, :mean 55.0, :variance 0.0, :ssq 0}\n",
      "{:count 2, :mean 72.0, :variance 578.0, :ssq 0}\n",
      "{:count 3, :mean 96.0, :variance 2017.0, :ssq 0}\n"
     ]
    },
    {
     "data": {
      "text/plain": [
       "nil"
      ]
     },
     "execution_count": 77,
     "metadata": {},
     "output_type": "execute_result"
    }
   ],
   "source": [
    "(defn make-recurrent-stats-mapper []\n",
    "    (let [running-stats (atom {:count 0, :mean 0, \n",
    "                               :variance 0, :ssq 0})]\n",
    "        (fn [z]\n",
    "            (let [{x :mean, n :count, v :variance} @running-stats\n",
    "                  n+1 (inc n)\n",
    "                  K   (/ 1.0 (inc n))\n",
    "                  r   (- z x)\n",
    "                  x'  (+ x (* K r))\n",
    "                  ssr (+ (* (- n 1) v) ; old ssr is (* (- n 1) v)\n",
    "                         (* K n r r))]\n",
    "                (swap! running-stats conj\n",
    "                       [:count    n+1]\n",
    "                       [:mean     x' ]\n",
    "                       [:variance (/ ssr  (max 1 n))]))\n",
    "            @running-stats)))\n",
    "(async-non-random-scan z2s (make-recurrent-stats-mapper) println)"
   ]
  },
  {
   "cell_type": "markdown",
   "metadata": {},
   "source": [
    "#### WELFORD'S VARIANCE"
   ]
  },
  {
   "cell_type": "markdown",
   "metadata": {},
   "source": [
    "The above is equivalent, algebraically and numerically, to Welford's famous recurrence for the sum of squared residuals $S$. In recurrences, we want everything on the right-hand sides of equations or left arrows to be be old, _prior_ statistics, except for the new observation / measurement / input $z$. Welford's requires the new, _posterior_ mean on the right-hand side, so it's not as elegant as our recurrence above. However, it is easier to remember!"
   ]
  },
  {
   "cell_type": "markdown",
   "metadata": {},
   "source": [
    "$$S\\leftarrow{S} + \\left(z-x_N\\right)\\left(z-x_{N+1}\\right)=S+\\left(z-x\\right)\\left(z-\\left(x+K\\,\\left(z-x\\right)\\right)\\right)\\tag{5}$$"
   ]
  },
  {
   "cell_type": "code",
   "execution_count": 78,
   "metadata": {},
   "outputs": [
    {
     "name": "stdout",
     "output_type": "stream",
     "text": [
      "{:count 1, :mean 55.0, :variance 0.0}\n",
      "{:count 2, :mean 72.0, :variance 578.0}\n",
      "{:count 3, :mean 96.0, :variance 2017.0}\n"
     ]
    },
    {
     "data": {
      "text/plain": [
       "nil"
      ]
     },
     "execution_count": 78,
     "metadata": {},
     "output_type": "execute_result"
    }
   ],
   "source": [
    "(defn make-welfords-stats-mapper []\n",
    "    (let [running-stats (atom {:count 0, :mean 0, :variance 0})]\n",
    "        (fn [z]\n",
    "            (let [{x :mean, n :count, v :variance} @running-stats\n",
    "                  n+1 (inc n)\n",
    "                  K   (/ 1.0 n+1)\n",
    "                  r   (- z x)\n",
    "                  x'  (+ x (* K r))\n",
    "                  ssr (+ (* (- n 1) v) \n",
    "                         (* (- z x) (- z x')))] ; <-- only difference to recurrent variance\n",
    "                (swap! running-stats conj\n",
    "                       [:count    n+1]\n",
    "                       [:mean     x' ]\n",
    "                       [:variance (/ ssr  (max 1 n))]))\n",
    "            @running-stats)))\n",
    "(async-non-random-scan z2s (make-welfords-stats-mapper) println)"
   ]
  },
  {
   "cell_type": "markdown",
   "metadata": {},
   "source": [
    "# WINDOWED STATISTICS"
   ]
  },
  {
   "cell_type": "markdown",
   "metadata": {},
   "source": [
    "Suppose we want running statistics over a history of fixed, finite length. For example, suppose we have $N=10$ data and we want the statitics in a window of length $w=3$ behind the current value, inclusively. When the first datum arrives, the window and the total include one datum. The window overhangs the left until the third datum. When the fourth datum arrives, the window contains three data and the total contains four data. After the tenth datum, we may consider three more steps marching the window \"off the cliff\" to the right. The following figure illustrates (the first row corresponds to $n=0$, not to $n=1$):"
   ]
  },
  {
   "cell_type": "markdown",
   "metadata": {},
   "source": [
    "<img src=\"sliding-window.png\" style=\"width: 200px;\"/>"
   ]
  },
  {
   "cell_type": "markdown",
   "metadata": {},
   "source": [
    "We won't derive the following formulas, but rather say that they have been vetted at least twice independently (in a C program and in a Mathematica program). The following table shows a unit test that we reproduce. The notation is explained after the table."
   ]
  },
  {
   "cell_type": "markdown",
   "metadata": {},
   "source": [
    "<img src=\"sliding-window-unit-test-001.png\" style=\"width: 800px;\"/>"
   ]
  },
  {
   "cell_type": "markdown",
   "metadata": {},
   "source": [
    "Denote prior statistics by plain variables like $m$ and corresponding posteriors by the same variables with primes like $m'$. The posteriors $j$ and $u$ do not have a prime. "
   ]
  },
  {
   "cell_type": "markdown",
   "metadata": {},
   "source": [
    "variable | description \n",
    "---------|:-------------\n",
    "$n$      | prior count of data points; equals $0$ when considering the first point\n",
    "$z$      | current data point\n",
    "$w$      | fixed, constant, maximum width of window; $w\\geq{1}$\n",
    "$j$      | posterior number of points left of the window; $j\\geq{0}$\n",
    "$u$      | posterior number of points including $z$ in the running window; $1\\leq{u}\\leq{w}$\n",
    "$m$      | prior mean of all points, not including $z$\n",
    "$m'$     | posterior mean of all points including $z$\n",
    "$m_j$    | prior mean of points left of the window, lagging $w$ behind $m$\n",
    "$m'_j$   | posterior mean of points left of the window\n",
    "$m'_w$   | posterior mean of points in the window, including the current point $z$\n",
    "$v$      | prior variance, not including $z$\n",
    "$v'$     | posterior variance of all points including $z$\n",
    "$v_j$    | prior variance of points left of the window, lagging $w$ behind $u_n$\n",
    "$v'_j$   | posterior variance of points left of the window\n",
    "$v'_w$   | posterior variance of points within the window"
   ]
  },
  {
   "cell_type": "markdown",
   "metadata": {},
   "source": [
    "The recurrences for $m$, $v$, $m_j$, and $v_j$ have only priors (no primes) on their right-hand sides. The values of $m_w$ and $v_w$ are not recurrences because the non-primed versions do not appear on the right-hand sides of equations 10 and 13. Those equations are simply transformations of the posteriors (values with primes) $m'$, $m'_j$, $v'$, and $v'_j$."
   ]
  },
  {
   "cell_type": "markdown",
   "metadata": {},
   "source": [
    "$$\\begin{align}\n",
    "j     &= \\max(0,n+1-w)               \\tag{6}\\\\\n",
    "u     &= n-j+1                       \\tag{7}\\\\\n",
    "m'    &= m+\\frac{z-m}{n+1}           \\tag{8}\\\\\n",
    "m'_j  &= \\begin{cases} \n",
    "  m_j+\\frac{z_j-m_j}{j} & j>0 \\\\\n",
    "  0 & \\mathrm{otherwise}\n",
    "\\end{cases}                            \\tag{9}\\\\\n",
    "m'_w  &= \\frac{(n+1)\\,m'-j\\,m'_j}{u} \\tag{10}\\\\\n",
    "v'    &= \\frac{(n-1)\\,v+\\frac{n}{n+1}\\left(z-m\\right)^2}{\\max(1,n)}               \\tag{11}\\\\\n",
    "v'_j  &= \\begin{cases}\n",
    "  \\frac{j-2}{j-1}\\,v_j+\\frac{1}{j}\\,\\left(z_j-m_j\\right)^2 & j>1 \\\\\n",
    "  0 & \\mathrm{otherwise}\n",
    "\\end{cases}                                                                         \\tag{12}\\\\\n",
    "v'_w  &= \\frac{n\\,v'+(n-w)\\,v'_j+(n+1)\\,{m'}^2-j\\,{m'_j}^2-u\\,{m'_w}^2}{\\max(1,u-1)}    \\tag{13}\n",
    "\\end{align}$$"
   ]
  },
  {
   "cell_type": "markdown",
   "metadata": {},
   "source": [
    "Here is sample data we can compare with the unit test above."
   ]
  },
  {
   "cell_type": "code",
   "execution_count": 79,
   "metadata": {},
   "outputs": [
    {
     "data": {
      "text/plain": [
       "#'user/z3s"
      ]
     },
     "execution_count": 79,
     "metadata": {},
     "output_type": "execute_result"
    }
   ],
   "source": [
    "(def z3s [0.857454, 0.312454, 0.705325, 0.839363, 1.63781, 0.699257, -0.340016, -0.213596, -0.0418609, 0.054705])"
   ]
  },
  {
   "cell_type": "markdown",
   "metadata": {},
   "source": [
    "The best algorithm we have found for tracking historical data is to keep a FIFO queue in a Clojure _vector_ of length $w$. This is still constant memory because it depends only on the length $w$ of the window, not on the length of the data stream."
   ]
  },
  {
   "cell_type": "code",
   "execution_count": 80,
   "metadata": {},
   "outputs": [
    {
     "data": {
      "text/plain": [
       "#'user/push-to-back"
      ]
     },
     "execution_count": 80,
     "metadata": {},
     "output_type": "execute_result"
    }
   ],
   "source": [
    "(defn push-to-back [item vek]\n",
    "    (conj (vec (drop 1 vek)) item))"
   ]
  },
  {
   "cell_type": "code",
   "execution_count": 81,
   "metadata": {},
   "outputs": [
    {
     "name": "stdout",
     "output_type": "stream",
     "text": [
      "\n",
      "|   :n |                  :mw |                  :vw |\n",
      "|------+----------------------+----------------------|\n",
      "|  1.0 |             0.857454 |                  0.0 |\n",
      "|  2.0 |             0.584954 |  0.14851250000000005 |\n",
      "|  3.0 |   0.6250776666666666 |  0.07908597588033339 |\n",
      "|  4.0 |   0.6190473333333332 |  0.07499115039433346 |\n",
      "|  5.0 |   1.0608326666666668 |   0.2541686787463333 |\n",
      "|  6.0 |              1.05881 |  0.25633817280899995 |\n",
      "|  7.0 |   0.6656836666666668 |   0.9787942981023336 |\n",
      "|  8.0 |  0.04854833333333334 |   0.3215618307563336 |\n",
      "|  9.0 | -0.19849096666666663 | 0.022395237438003604 |\n",
      "| 10.0 | -0.06691730000000007 |  0.01846722403596973 |\n"
     ]
    },
    {
     "data": {
      "text/plain": [
       "nil"
      ]
     },
     "execution_count": 81,
     "metadata": {},
     "output_type": "execute_result"
    }
   ],
   "source": [
    "(defn make-sliding-stats-mapper [w]\n",
    "    (let [running-stats (atom {:n 0, :m 0, :v 0,\n",
    "                               :win (vec (repeat w 0)),\n",
    "                               :mw 0, :vw 0,\n",
    "                               :mj 0, :vj 0})]\n",
    "        (fn [z]\n",
    "            (let [{:keys [m n v win mj vj]} @running-stats\n",
    "                  zj   (first win)\n",
    "                  win' (push-to-back z win)\n",
    "                  n+1  (double (inc n))\n",
    "                  n-1  (double (dec n))\n",
    "                  K    (/ 1.0 n+1)\n",
    "                  Kv   (* n K)\n",
    "                  r    (- z m)\n",
    "                  j    (max 0, (- n+1 w))\n",
    "                  u    (- n+1 j)\n",
    "                  m'   (+ m (* K r))\n",
    "                  rj   (- zj mj)\n",
    "                  mj'  (if (> j 0), (+ mj (/ rj j)), 0)\n",
    "                  mw'  (/ (- (* n+1 m') (* j mj')) u)\n",
    "                  v'   (/  (+ (* n-1 v) (* Kv r r))\n",
    "                           (max 1 n))\n",
    "                  vj'  (if (> j 1)\n",
    "                           (let [j21 (/ (- j 2.0) \n",
    "                                        (- j 1.0))]\n",
    "                               (+ (* j21 vj) \n",
    "                                  (/ (* rj rj) j)))\n",
    "                           0)\n",
    "                  vw'  (let [t1 (- (* n v')\n",
    "                                   (* (- n w) vj'))\n",
    "                             t2 (- (* n+1 m' m')\n",
    "                                   (* j mj' mj'))\n",
    "                             t3 (- (* u mw' mw'))]\n",
    "                           (/  (+ t1 t2 t3)\n",
    "                               (max 1 (- u 1))))\n",
    "                  ]\n",
    "                (swap! running-stats conj\n",
    "                       [:n    n+1 ]\n",
    "                       [:m    m'  ]\n",
    "                       [:v    v'  ]\n",
    "                       [:mj   mj' ]\n",
    "                       [:vj   vj' ]\n",
    "                       [:mw   mw' ]\n",
    "                       [:vw   vw' ]\n",
    "                       [:win  win']))\n",
    "            @running-stats)))\n",
    "\n",
    "(clojure.pprint/print-table \n",
    "    [:n :mw :vw]\n",
    "    (sync-scan z3s (make-sliding-stats-mapper 3)))"
   ]
  },
  {
   "cell_type": "markdown",
   "metadata": {},
   "source": [
    "This passes the unit test."
   ]
  },
  {
   "cell_type": "markdown",
   "metadata": {
    "collapsed": true
   },
   "source": [
    "# KALMAN FILTER"
   ]
  },
  {
   "cell_type": "markdown",
   "metadata": {},
   "source": [
    "## BASIC LINEAR ALGEBRA"
   ]
  },
  {
   "cell_type": "markdown",
   "metadata": {},
   "source": [
    "Go for high performance with CUDA or Intel KML later.\n",
    "\n",
    "Following the [getting-started guide here](https://github.com/mikera/core.matrix/wiki/Getting-Started-Guide), add the following lines to `project.clj` of `clojupyter`:"
   ]
  },
  {
   "cell_type": "raw",
   "metadata": {},
   "source": [
    "[net.mikera/core.matrix \"0.60.3\"]\n",
    "[net.mikera/vectorz-clj \"0.47.0\"]\n",
    "[org.clojure/algo.generic \"0.1.2\"]"
   ]
  },
  {
   "cell_type": "markdown",
   "metadata": {},
   "source": [
    "Recompile `clojupyter` (`make` and `make install` in its directory) and restart the kernel in this notebook (`Kernel` menu above)."
   ]
  },
  {
   "cell_type": "markdown",
   "metadata": {},
   "source": [
    "Smoke test:"
   ]
  },
  {
   "cell_type": "code",
   "execution_count": 40,
   "metadata": {},
   "outputs": [
    {
     "data": {
      "text/plain": [
       ":vectorz"
      ]
     },
     "execution_count": 40,
     "metadata": {},
     "output_type": "execute_result"
    }
   ],
   "source": [
    "(require '[clojure.core.matrix :as ccm])\n",
    "(ccm/set-current-implementation :vectorz)"
   ]
  },
  {
   "cell_type": "code",
   "execution_count": 41,
   "metadata": {},
   "outputs": [
    {
     "data": {
      "text/plain": [
       "[3 3]"
      ]
     },
     "execution_count": 41,
     "metadata": {},
     "output_type": "execute_result"
    }
   ],
   "source": [
    "(ccm/shape\n",
    "    (ccm/array [[1 2 3]\n",
    "                [1 3 8]\n",
    "                [2 7 4]]))"
   ]
  },
  {
   "cell_type": "markdown",
   "metadata": {},
   "source": [
    "Bits and pieces we will need:"
   ]
  },
  {
   "cell_type": "code",
   "execution_count": 42,
   "metadata": {},
   "outputs": [
    {
     "data": {
      "text/plain": [
       "#vectorz/matrix [[1.0,1.0,2.0],\n",
       "[2.0,3.0,7.0],\n",
       "[3.0,8.0,4.0]]"
      ]
     },
     "execution_count": 42,
     "metadata": {},
     "output_type": "execute_result"
    }
   ],
   "source": [
    "(ccm/transpose\n",
    "    (ccm/array [[1 2 3]\n",
    "                [1 3 8]\n",
    "                [2 7 4]]))"
   ]
  },
  {
   "cell_type": "markdown",
   "metadata": {},
   "source": [
    "`mmul` is multiadic (takes more than two arguments). This is possible because matrix multiplication is associative."
   ]
  },
  {
   "cell_type": "code",
   "execution_count": 43,
   "metadata": {},
   "outputs": [
    {
     "data": {
      "text/plain": [
       "#vectorz/matrix [[1.000000000000003,1.0,2.0000000000000004],\n",
       "[2.0000000000000093,3.000000000000001,6.999999999999998],\n",
       "[3.000000000000006,8.0,3.999999999999999]]"
      ]
     },
     "execution_count": 43,
     "metadata": {},
     "output_type": "execute_result"
    }
   ],
   "source": [
    "(let [A (ccm/array [[1 2 3]\n",
    "                    [1 3 8]\n",
    "                    [2 7 4]])]\n",
    "    (ccm/mmul (ccm/transpose A) A (ccm/inverse A)))"
   ]
  },
  {
   "cell_type": "markdown",
   "metadata": {
    "heading_collapsed": true
   },
   "source": [
    "### LINSPACE"
   ]
  },
  {
   "cell_type": "code",
   "execution_count": 44,
   "metadata": {
    "hidden": true
   },
   "outputs": [
    {
     "data": {
      "text/plain": [
       "#'user/linspace"
      ]
     },
     "execution_count": 44,
     "metadata": {},
     "output_type": "execute_result"
    }
   ],
   "source": [
    "(defn linspace\n",
    "  \"A sequence of $n$ equally spaced points in the doubly closed\n",
    " interval $[a,b]$, that is, inclusive of both ends.\"\n",
    "  [a b n]\n",
    "  (let [d (/ (- b a) (dec n))]\n",
    "    (map (fn [x] (+ a (* x d))) (range n))))"
   ]
  },
  {
   "cell_type": "code",
   "execution_count": 45,
   "metadata": {
    "hidden": true
   },
   "outputs": [
    {
     "name": "stdout",
     "output_type": "stream",
     "text": [
      "(2.0 2.5 3.0)\n"
     ]
    },
    {
     "data": {
      "text/plain": [
       "nil"
      ]
     },
     "execution_count": 45,
     "metadata": {},
     "output_type": "execute_result"
    }
   ],
   "source": [
    "(clojure.pprint/pprint (linspace 2 3. 3))"
   ]
  },
  {
   "cell_type": "markdown",
   "metadata": {
    "heading_collapsed": true
   },
   "source": [
    "### SYMMETRIC AND ANTISYMMETRIC PARTS"
   ]
  },
  {
   "cell_type": "markdown",
   "metadata": {
    "hidden": true
   },
   "source": [
    "Symmetric part:"
   ]
  },
  {
   "cell_type": "code",
   "execution_count": 46,
   "metadata": {
    "hidden": true
   },
   "outputs": [
    {
     "data": {
      "text/plain": [
       "[[1.0 1.5 2.5] [1.5 3.0 7.5] [2.5 7.5 4.0]]"
      ]
     },
     "execution_count": 46,
     "metadata": {},
     "output_type": "execute_result"
    }
   ],
   "source": [
    "(defn symmetric-part [M]\n",
    "    (ccm/div (ccm/add M (ccm/transpose M)) 2.0))\n",
    "(symmetric-part [[1 2 3]\n",
    "                 [1 3 8]\n",
    "                 [2 7 4]])"
   ]
  },
  {
   "cell_type": "markdown",
   "metadata": {
    "hidden": true
   },
   "source": [
    "Anti-symmetric part:"
   ]
  },
  {
   "cell_type": "code",
   "execution_count": 47,
   "metadata": {
    "hidden": true
   },
   "outputs": [
    {
     "data": {
      "text/plain": [
       "[[0.0 0.5 0.5] [-0.5 0.0 0.5] [-0.5 -0.5 0.0]]"
      ]
     },
     "execution_count": 47,
     "metadata": {},
     "output_type": "execute_result"
    }
   ],
   "source": [
    "(defn anti-symmetric-part [M]\n",
    "    (ccm/div (ccm/sub M (ccm/transpose M)) 2.0))\n",
    "(anti-symmetric-part [[1 2 3]\n",
    "                      [1 3 8]\n",
    "                      [2 7 4]])"
   ]
  },
  {
   "cell_type": "code",
   "execution_count": 48,
   "metadata": {
    "hidden": true
   },
   "outputs": [
    {
     "data": {
      "text/plain": [
       "[[0.0 0.0 0.0] [0.0 0.0 0.0] [0.0 0.0 0.0]]"
      ]
     },
     "execution_count": 48,
     "metadata": {},
     "output_type": "execute_result"
    }
   ],
   "source": [
    "(let [M [[1 2 3]\n",
    "         [1 3 8]\n",
    "         [2 7 4]]]\n",
    "    (ccm/sub (ccm/add (symmetric-part M)\n",
    "                (anti-symmetric-part M))\n",
    "             M))"
   ]
  },
  {
   "cell_type": "markdown",
   "metadata": {
    "heading_collapsed": true
   },
   "source": [
    "### NEAR-EQUALITY FOR MATRICES"
   ]
  },
  {
   "cell_type": "code",
   "execution_count": 49,
   "metadata": {
    "hidden": true
   },
   "outputs": [
    {
     "data": {
      "text/plain": [
       "nil"
      ]
     },
     "execution_count": 49,
     "metadata": {},
     "output_type": "execute_result"
    }
   ],
   "source": [
    "(require '[clojure.algo.generic.math-functions :as gmf])"
   ]
  },
  {
   "cell_type": "markdown",
   "metadata": {
    "hidden": true
   },
   "source": [
    "This isn't the best solution: neither relative nor absolute differences are robust. Units in last place is a better criterion, however, this will unblock us for now."
   ]
  },
  {
   "cell_type": "code",
   "execution_count": 51,
   "metadata": {
    "hidden": true
   },
   "outputs": [
    {
     "data": {
      "text/plain": [
       "[[true true true] [true true true] [true true true]]"
      ]
     },
     "execution_count": 51,
     "metadata": {},
     "output_type": "execute_result"
    }
   ],
   "source": [
    "(defn matrix-almost= \n",
    "    ([m1 m2 eps]\n",
    "     \"Checks for near equality against a given absolute difference.\"\n",
    "    (mapv (fn [row1 row2]\n",
    "              (mapv (fn [e1 e2] (gmf/approx= e1 e2 eps))\n",
    "                    row1 row2))\n",
    "          m1 m2))\n",
    "    ([m1 m2] \n",
    "     \"Checks for near equality against a default absolute difference of 1.0e-9\"\n",
    "     (matrix-almost= m1 m2 1.0e-9)))\n",
    "\n",
    "(let [M [[1 2 3]\n",
    "         [1 3 8]\n",
    "         [2 7 4]]]\n",
    "    (matrix-almost= (ccm/add (symmetric-part M)\n",
    "                             (anti-symmetric-part M))\n",
    "                    M))"
   ]
  },
  {
   "cell_type": "markdown",
   "metadata": {},
   "source": [
    "### SIMILARITY TRANSFORM"
   ]
  },
  {
   "cell_type": "code",
   "execution_count": 52,
   "metadata": {},
   "outputs": [
    {
     "data": {
      "text/plain": [
       "#'user/similarity-transform"
      ]
     },
     "execution_count": 52,
     "metadata": {},
     "output_type": "execute_result"
    }
   ],
   "source": [
    "(defn similarity-transform [A M]\n",
    "    (ccm/mmul A M (ccm/transpose A)))"
   ]
  },
  {
   "cell_type": "markdown",
   "metadata": {},
   "source": [
    "### VECTORS, ROW VECTORS, COLUMN VECTORS"
   ]
  },
  {
   "cell_type": "markdown",
   "metadata": {},
   "source": [
    "The library (like many others) is loose about matrices times vectors."
   ]
  },
  {
   "cell_type": "code",
   "execution_count": 53,
   "metadata": {},
   "outputs": [
    {
     "data": {
      "text/plain": [
       "#vectorz/vector [194.0,427.0,373.0]"
      ]
     },
     "execution_count": 53,
     "metadata": {},
     "output_type": "execute_result"
    }
   ],
   "source": [
    "(ccm/mmul\n",
    "    (ccm/matrix [[1 2 3]\n",
    "                 [1 3 8]\n",
    "                 [2 7 4]])\n",
    "    (ccm/array [22 23 42]))"
   ]
  },
  {
   "cell_type": "markdown",
   "metadata": {},
   "source": [
    "Pedantically, a matrix should only be allowed to left-multiply a column vector, i.e., a $1\\times{3}$ matrix. The Clojure library handles this case."
   ]
  },
  {
   "cell_type": "code",
   "execution_count": 54,
   "metadata": {},
   "outputs": [
    {
     "data": {
      "text/plain": [
       "#vectorz/matrix [[194.0],\n",
       "[427.0],\n",
       "[373.0]]"
      ]
     },
     "execution_count": 54,
     "metadata": {},
     "output_type": "execute_result"
    }
   ],
   "source": [
    "(ccm/mmul\n",
    "    (ccm/matrix [[1 2 3]\n",
    "                 [1 3 8]\n",
    "                 [2 7 4]])\n",
    "    (ccm/array [[22] [23] [42]]))"
   ]
  },
  {
   "cell_type": "markdown",
   "metadata": {},
   "source": [
    "Non-pedantic multiplication of a vector on the right by a matrix:"
   ]
  },
  {
   "cell_type": "code",
   "execution_count": 55,
   "metadata": {},
   "outputs": [
    {
     "data": {
      "text/plain": [
       "#vectorz/vector [129.0,407.0,418.0]"
      ]
     },
     "execution_count": 55,
     "metadata": {},
     "output_type": "execute_result"
    }
   ],
   "source": [
    "(ccm/mmul\n",
    "    (ccm/array [22 23 42])\n",
    "    (ccm/matrix [[1 2 3]\n",
    "                 [1 3 8]\n",
    "                 [2 7 4]]))"
   ]
  },
  {
   "cell_type": "markdown",
   "metadata": {},
   "source": [
    "Pedantic multiplication of a row vector on the right by a matrix:"
   ]
  },
  {
   "cell_type": "code",
   "execution_count": 56,
   "metadata": {},
   "outputs": [
    {
     "data": {
      "text/plain": [
       "#vectorz/matrix [[129.0,407.0,418.0]]"
      ]
     },
     "execution_count": 56,
     "metadata": {},
     "output_type": "execute_result"
    }
   ],
   "source": [
    "(ccm/mmul\n",
    "    (ccm/array [[22 23 42]])\n",
    "    (ccm/matrix [[1 2 3]\n",
    "                 [1 3 8]\n",
    "                 [2 7 4]]))"
   ]
  },
  {
   "cell_type": "markdown",
   "metadata": {},
   "source": [
    "### SOLVING INSTEAD OF INVERTING"
   ]
  },
  {
   "cell_type": "markdown",
   "metadata": {},
   "source": [
    "Textbooks will tell you that, if you have $\\boldsymbol{A}\\boldsymbol{x}=\\boldsymbol{b}$ and you want $\\boldsymbol{x}$, you should compute $\\boldsymbol{A}^{-1}\\boldsymbol{b}$. Don't do this; the inverse is numerically risky and almost never needed:"
   ]
  },
  {
   "cell_type": "code",
   "execution_count": 57,
   "metadata": {},
   "outputs": [
    {
     "data": {
      "text/plain": [
       "#vectorz/vector [22.05882352941177,-0.4705882352941142,0.2941176470588234]"
      ]
     },
     "execution_count": 57,
     "metadata": {},
     "output_type": "execute_result"
    }
   ],
   "source": [
    "(ccm/mmul\n",
    "    (ccm/inverse\n",
    "        (ccm/array [[1 2 3]\n",
    "                    [1 3 8]\n",
    "                    [2 7 4]]))\n",
    "    (ccm/array [22 23 42]))"
   ]
  },
  {
   "cell_type": "markdown",
   "metadata": {},
   "source": [
    "Instead, use a linear solver. Almost everywhere that you see $\\boldsymbol{A}^{-1}\\boldsymbol{b}$, visualize $\\text{solve}(\\boldsymbol{A},\\boldsymbol{b})$. You will get a more stable answer. Notice the difference in the low-significance digits below. The following is a more reliable answer:"
   ]
  },
  {
   "cell_type": "code",
   "execution_count": 58,
   "metadata": {},
   "outputs": [
    {
     "data": {
      "text/plain": [
       "nil"
      ]
     },
     "execution_count": 58,
     "metadata": {},
     "output_type": "execute_result"
    }
   ],
   "source": [
    "(require '[clojure.core.matrix.linear :as ccml])"
   ]
  },
  {
   "cell_type": "code",
   "execution_count": 59,
   "metadata": {},
   "outputs": [
    {
     "data": {
      "text/plain": [
       "#vectorz/vector [22.058823529411764,-0.4705882352941176,0.2941176470588236]"
      ]
     },
     "execution_count": 59,
     "metadata": {},
     "output_type": "execute_result"
    }
   ],
   "source": [
    "(ccml/solve \n",
    "    (ccm/array [[1 2 3]\n",
    "                [1 3 8]\n",
    "                [2 7 4]])\n",
    "    (ccm/array [22 23 42]))"
   ]
  },
  {
   "cell_type": "code",
   "execution_count": 60,
   "metadata": {},
   "outputs": [
    {
     "data": {
      "text/plain": [
       "#vectorz/vector [22.058823529411764,-0.4705882352941176,0.2941176470588236]"
      ]
     },
     "execution_count": 60,
     "metadata": {},
     "output_type": "execute_result"
    }
   ],
   "source": [
    "(ccml/solve \n",
    "    (ccm/matrix [[1 2 3]\n",
    "                [1 3 8]\n",
    "                [2 7 4]])\n",
    "    (ccm/matrix [22 23 42]))"
   ]
  },
  {
   "cell_type": "code",
   "execution_count": 61,
   "metadata": {},
   "outputs": [
    {
     "data": {
      "text/plain": [
       "[3 1]"
      ]
     },
     "execution_count": 61,
     "metadata": {},
     "output_type": "execute_result"
    }
   ],
   "source": [
    "(ccm/shape (ccm/matrix [[22] [23] [42]]))"
   ]
  },
  {
   "cell_type": "markdown",
   "metadata": {},
   "source": [
    "We need `solve` to work on matrices:"
   ]
  },
  {
   "cell_type": "code",
   "execution_count": 62,
   "metadata": {},
   "outputs": [
    {
     "data": {
      "text/plain": [
       "#'user/solve-matrix"
      ]
     },
     "execution_count": 62,
     "metadata": {},
     "output_type": "execute_result"
    }
   ],
   "source": [
    "(defn solve-matrix\n",
    "  \"The 'solve' routine in clojure.core.matrix only works on Matrix times Vector.\n",
    "  We need it to work on Matrix times Matrix. The equation to solve is\n",
    "\n",
    "  Ann * Xnm = Bnm\n",
    "\n",
    "  Think of the right-hand side matrix Bnm as a sequence of columns. Iterate over\n",
    "  its transpose, treating each column as a row, then converting that row to a\n",
    "  vector, to get the transpose of the solution X.\"\n",
    "  [Ann Bnm]\n",
    "  (ccm/transpose (mapv (partial ccml/solve Ann) (ccm/transpose Bnm))))"
   ]
  },
  {
   "cell_type": "code",
   "execution_count": 63,
   "metadata": {},
   "outputs": [
    {
     "data": {
      "text/plain": [
       "[[22.058823529411764] [-0.4705882352941176] [0.2941176470588236]]"
      ]
     },
     "execution_count": 63,
     "metadata": {},
     "output_type": "execute_result"
    }
   ],
   "source": [
    "(solve-matrix \n",
    "    (ccm/matrix [[1 2 3]\n",
    "                [1 3 8]\n",
    "                [2 7 4]])\n",
    "    (ccm/matrix [[22] [23] [42]]\n",
    "               ))"
   ]
  },
  {
   "cell_type": "code",
   "execution_count": 64,
   "metadata": {},
   "outputs": [
    {
     "data": {
      "text/plain": [
       "[[22.058823529411764 44.11764705882353] [-0.4705882352941176 -0.9411764705882352] [0.2941176470588236 0.5882352941176472]]"
      ]
     },
     "execution_count": 64,
     "metadata": {},
     "output_type": "execute_result"
    }
   ],
   "source": [
    "(solve-matrix \n",
    "    (ccm/matrix [[1 2 3]\n",
    "                [1 3 8]\n",
    "                [2 7 4]])\n",
    "    (ccm/matrix [[22 44] \n",
    "                 [23 46] \n",
    "                 [42 84]]))"
   ]
  },
  {
   "cell_type": "markdown",
   "metadata": {
    "button": false,
    "new_sheet": false,
    "run_control": {
     "read_only": false
    }
   },
   "source": [
    "## GENERAL KALMAN FILTER"
   ]
  },
  {
   "cell_type": "markdown",
   "metadata": {},
   "source": [
    "Use Clojure's destructuring to write the Kalman filter as a binary function. See http://vixra.org/abs/1606.0348"
   ]
  },
  {
   "cell_type": "markdown",
   "metadata": {},
   "source": [
    "`xn1` denotes a vector $\\boldsymbol{x}$ with dimension $n\\times{1}$, that is, a column vector of height $n$. `Pnn` denotes a covariance matrix of dimension $n\\times{n}$, and So on.\n",
    "\n",
    "The math is as follows (notice step 6 has the same form as all our prior statistics calculations):\n",
    "\n",
    "Letting inputs:\n",
    "\n",
    "* $\\boldsymbol{x}_{n,1}$ be the current, best estimate of the $n$-dimensional state of a system\n",
    "* $\\boldsymbol{P}_{n,n}$ be the current, best estimate of the $n\\times{n}$ covariance of state $\\boldsymbol{x}_{n,1}$\n",
    "* $\\boldsymbol{z}_{m,1}$ be the current, $m$-dimensional observation\n",
    "* $\\boldsymbol{H}_{m,n}$ be linearized observation model to be inverted:  $\\boldsymbol{z}_{m,1}=\\boldsymbol{H}_{m,n}\\cdot\\boldsymbol{x}_{n,1}$\n",
    "* $\\boldsymbol{A}_{n,n}$ be linearized dynamics\n",
    "* $\\boldsymbol{Q}_{n,n}$ be process noise (covariance) accounting for uncertainty in $\\boldsymbol{A}_{n,n}$\n",
    "* $\\boldsymbol{R}_{m,m}$ be observation noise (covariance) accounting for uncertainty in $\\boldsymbol{z}_{m,1}$\n",
    "\n",
    "and intermediates and outputs: \n",
    "\n",
    "* $\\boldsymbol{x}'_{n,1}$ (intermediate; _update_) be the estimate of the state after enduring one time step of linearized dynamics\n",
    "* $\\boldsymbol{x}''_{n,1}$ (output; _prediction_) be the estimate of the state after dynamics and after information from the observation $\\boldsymbol{z}_{m,1}$ \n",
    "* $\\boldsymbol{P}'_{n,n}$ (intermediate; _update_) be the current, best estimate of the $n\\times{n}$ covariance of state $\\boldsymbol{x}_{n,1}$ after dynamics\n",
    "* $\\boldsymbol{P}''_{n,n}$ (output; _prediction_) be the current, best estimate of the $n\\times{n}$ covariance of state $\\boldsymbol{x}_{n,1}$ after dynamics and oservation $\\boldsymbol{z}_{m,1}$\n",
    " \n",
    "The steps are:\n",
    "\n",
    "1. _Update state estimate_: $\\boldsymbol{x}'_{n,1} = \\boldsymbol{A}_{n,n}\\;\\boldsymbol{x}_{n,1}$\n",
    "2. _Update state covariance_: $\\boldsymbol{P}'_{n,n} = \\boldsymbol{Q}_{n,n} + \\left(\\boldsymbol{A}_{n,n}\\;\\boldsymbol{P}_{n,n}\\;\\boldsymbol{A}_{n,n}^\\intercal\\right)$\n",
    "3. _Covariance-update scaling matrix_: $\\boldsymbol{D}_{m,m} = \\boldsymbol{R}_{m,m} + \\left(\\boldsymbol{H}_{m,n}\\;\\boldsymbol{P}'_{n,n}\\;\\boldsymbol{H}_{m,n}^\\intercal\\right)$\n",
    "4. _Kalman gain_: $\\boldsymbol{K}_{n,m}=\\boldsymbol{P}_{n,n}\\;\\boldsymbol{H}_{m,n}^\\intercal\\;\\boldsymbol{D}_{m,m}^{-1}$\n",
    "    1. written as $\\boldsymbol{K}_{n,m}^\\intercal=\\text{solve}\\left(\\boldsymbol{D}_{m,m}^{\\intercal},\\boldsymbol{H}_{m,n}\\;\\boldsymbol{P}_{n,n}^\\intercal\\right)$\n",
    "5. _Innovation: predicted observation residual_: $\\boldsymbol{r}_{m,1}=\\boldsymbol{z}_{m,1} - \\boldsymbol{H}_{m,n}\\;\\boldsymbol{x}'_{n,1}$\n",
    "6. _State prediction_: $\\boldsymbol{x}''_{n,1} = \\boldsymbol{x}'_{n,1} + \\boldsymbol{K}_{n,m}\\;\\boldsymbol{r}_{m,1}$\n",
    "7. _Covariance reduction matrix_: $\\boldsymbol{L}_{n,n}=\\boldsymbol{I}_{n,n} - \\boldsymbol{K}_{n,m}\\;\\boldsymbol{H}_{m,n}$\n",
    "8. _Covariance prediction_: $\\boldsymbol{P}''_{n,n}=\\boldsymbol{L}_{n,n}\\;\\boldsymbol{P}'_{n,n}$"
   ]
  },
  {
   "cell_type": "code",
   "execution_count": 78,
   "metadata": {},
   "outputs": [
    {
     "data": {
      "text/plain": [
       "#'user/kalman-update"
      ]
     },
     "execution_count": 78,
     "metadata": {},
     "output_type": "execute_result"
    }
   ],
   "source": [
    "(defn kalman-update [{:keys [xn1 Pnn]} {:keys [zm1 Hmn Ann Qnn Rmm]}]\n",
    "  (let [x'n1   (ccm/mmul Ann xn1)                    ; Predict state\n",
    "        P'nn   (ccm/add\n",
    "                Qnn (similarity-transform Ann Pnn))  ; Predict covariance\n",
    "        Dmm    (ccm/add\n",
    "                Rmm (similarity-transform Hmn P'nn)) ; Gain precursor\n",
    "        DTmm   (ccm/transpose Dmm)                   ; Support for \"solve\"\n",
    "        HP'Tmn (ccm/mmul Hmn (ccm/transpose P'nn))   ; Support for \"solve\"\n",
    "        KTmn   (solve-matrix DTmm HP'Tmn)            ; Eqn 3 of http://vixra.org/abs/1606.0328\n",
    "        Knm    (ccm/transpose KTmn)                  ; Kalman gain\n",
    "        rm1    (ccm/sub zm1  (ccm/mmul Hmn x'n1))    ; innovation = predicted obn residual\n",
    "        x''n1  (ccm/add x'n1 (ccm/mmul Knm rm1))     ; final corrected estimate\n",
    "        n      (ccm/dimension-count xn1 0)\n",
    "        Lnn    (ccm/sub (ccm/identity-matrix n)      ; Support for new covariance ...\n",
    "                        (ccm/mmul Knm Hmn))          ; ...  ? catastrophic cancellation ?\n",
    "        P''nn  (ccm/mmul Lnn P'nn)]                  ; New covariance\n",
    "\n",
    "      {:xn1 x''n1, :Pnn P''nn}))"
   ]
  },
  {
   "cell_type": "markdown",
   "metadata": {},
   "source": [
    "### UNIT TEST"
   ]
  },
  {
   "cell_type": "markdown",
   "metadata": {},
   "source": [
    "Let the measurement model be a cubic:"
   ]
  },
  {
   "cell_type": "code",
   "execution_count": 66,
   "metadata": {},
   "outputs": [
    {
     "data": {
      "text/plain": [
       "#'user/Hmn-t"
      ]
     },
     "execution_count": 66,
     "metadata": {},
     "output_type": "execute_result"
    }
   ],
   "source": [
    "(defn Hmn-t [t]\n",
    "  (ccm/matrix [[(* t t t) (* t t) t 1]]))"
   ]
  },
  {
   "cell_type": "markdown",
   "metadata": {},
   "source": [
    "Ground truth state, constant with time in this unit test:"
   ]
  },
  {
   "cell_type": "code",
   "execution_count": 67,
   "metadata": {},
   "outputs": [
    {
     "data": {
      "text/plain": [
       "#'user/true-x"
      ]
     },
     "execution_count": 67,
     "metadata": {},
     "output_type": "execute_result"
    }
   ],
   "source": [
    "(def true-x\n",
    "    (ccm/array [-5 -4 9 -3]))"
   ]
  },
  {
   "cell_type": "code",
   "execution_count": 68,
   "metadata": {},
   "outputs": [
    {
     "data": {
      "text/plain": [
       "nil"
      ]
     },
     "execution_count": 68,
     "metadata": {},
     "output_type": "execute_result"
    }
   ],
   "source": [
    "(require '[clojure.core.matrix.random :as ccmr])"
   ]
  },
  {
   "cell_type": "code",
   "execution_count": 69,
   "metadata": {},
   "outputs": [
    {
     "data": {
      "text/plain": [
       "#'user/fake"
      ]
     },
     "execution_count": 69,
     "metadata": {},
     "output_type": "execute_result"
    }
   ],
   "source": [
    "(defn fake [n]\n",
    "  (let [times   (range -2.0 2.0 (/ 2.0 n))\n",
    "        Hmns    (mapv Hmn-t times)\n",
    "        true-zs (mapv #(ccm/mmul % true-x) Hmns)\n",
    "        zm1s    (mapv #(ccm/add\n",
    "                        % (ccm/array\n",
    "                           [[(ccmr/rand-gaussian)]]))\n",
    "                      true-zs)]\n",
    "    {:times times, :Hmns Hmns, :true-zs true-zs, :zm1s zm1s}))"
   ]
  },
  {
   "cell_type": "code",
   "execution_count": 70,
   "metadata": {},
   "outputs": [
    {
     "data": {
      "text/plain": [
       "#'user/test-data"
      ]
     },
     "execution_count": 70,
     "metadata": {},
     "output_type": "execute_result"
    }
   ],
   "source": [
    "(def test-data (fake 7))"
   ]
  },
  {
   "cell_type": "markdown",
   "metadata": {},
   "source": [
    "A state cluster is a vector of $\\boldsymbol{x}$ and $\\boldsymbol{P}$:"
   ]
  },
  {
   "cell_type": "code",
   "execution_count": 71,
   "metadata": {},
   "outputs": [
    {
     "data": {
      "text/plain": [
       "#'user/state-cluster-prior"
      ]
     },
     "execution_count": 71,
     "metadata": {},
     "output_type": "execute_result"
    }
   ],
   "source": [
    "(def state-cluster-prior\n",
    "  {:xn1 (ccm/array [[0.0] [0.0] [0.0] [0.0]])\n",
    "   :Pnn (ccm/mul 1000.0 (ccm/identity-matrix 4))})"
   ]
  },
  {
   "cell_type": "markdown",
   "metadata": {},
   "source": [
    "An obn-cluster is a vector of $\\boldsymbol{z}$, $\\boldsymbol{H}$, $\\boldsymbol{A}$, $\\boldsymbol{Q}$, and $\\boldsymbol{R}$. _Obn_ is short for _observation_."
   ]
  },
  {
   "cell_type": "code",
   "execution_count": 72,
   "metadata": {},
   "outputs": [
    {
     "data": {
      "text/plain": [
       "#'user/obn-clusters"
      ]
     },
     "execution_count": 72,
     "metadata": {},
     "output_type": "execute_result"
    }
   ],
   "source": [
    "(def obn-clusters\n",
    "  (let [c (count (:times test-data))]\n",
    "    (mapv (fn [zm1 Hmn Ann Qnn Rmm]\n",
    "            {:zm1 zm1, :Hmn Hmn, :Ann Ann, :Qnn Qnn, :Rmm Rmm})\n",
    "          (:zm1s test-data)\n",
    "          (:Hmns test-data)\n",
    "          (repeat c (ccm/identity-matrix 4))\n",
    "          (repeat c (ccm/zero-matrix 4 4))\n",
    "          (repeat c (ccm/identity-matrix 1))\n",
    "          )))"
   ]
  },
  {
   "cell_type": "code",
   "execution_count": 80,
   "metadata": {},
   "outputs": [
    {
     "name": "stdout",
     "output_type": "stream",
     "text": [
      "{:xn1 #vectorz/matrix [[-5.0620526513628885],\n",
      "[-3.9911699170558035],\n",
      "[9.218349402929167],\n",
      "[-2.719776178504107]],\n",
      " :Pnn\n",
      " #vectorz/matrix [[0.03208215055213958,-5.478256737134757E-15,-0.0874691388122202,-8.770761894538737E-15],\n",
      "[-2.3568386825489895E-15,0.03637145347999561,-5.2632377622874316E-14,-0.05541947257604415],\n",
      "[-0.08746913881223455,-2.570860191397628E-14,0.2822249372573019,-1.1334683192032458E-14],\n",
      "[4.6455894686658894E-15,-0.05541947257607027,-6.734196533741965E-15,0.15110531309503664]]}\n"
     ]
    },
    {
     "data": {
      "text/plain": [
       "nil"
      ]
     },
     "execution_count": 80,
     "metadata": {},
     "output_type": "execute_result"
    }
   ],
   "source": [
    "(clojure.pprint/pprint (reduce kalman-update state-cluster-prior obn-clusters))"
   ]
  },
  {
   "cell_type": "markdown",
   "metadata": {},
   "source": [
    "Notice how close it is to the ground truth, $[-5, -4, 9, -3]$ for $\\boldsymbol{x}$. A chi-squared test would be appropriate to complete the verification (TODO)."
   ]
  },
  {
   "cell_type": "markdown",
   "metadata": {},
   "source": [
    "### MAKE-KALMAN-MAPPER"
   ]
  },
  {
   "cell_type": "markdown",
   "metadata": {},
   "source": [
    "Just as we did before, we can convert a _foldable_ into a _mappable_ transducer and bang on an asynchronous stream of data. This only needs error handling to be deployable at scale. Not to minimize error handling: it's a big but separable engineering task."
   ]
  },
  {
   "cell_type": "code",
   "execution_count": 86,
   "metadata": {},
   "outputs": [
    {
     "name": "stdout",
     "output_type": "stream",
     "text": [
      "{:xn1 #vectorz/matrix [[2.3125808246442032],\n",
      "[-2.6980109620849024],\n",
      "[3.147679455765718],\n",
      "[-3.6722926983933357]],\n",
      " :Pnn\n",
      " #vectorz/matrix [[851.5854216510306,173.15034140713095,-202.00873164165267,235.676853581928],\n",
      "[173.15034140713095,797.9912683583474,235.676853581928,-274.9563291789159],\n",
      "[-202.0087316416527,235.67685358192801,725.0436708210841,320.7823840420684],\n",
      "[235.67685358192801,-274.9563291789159,320.7823840420684,625.7538852842537]]}\n",
      "{:xn1 #vectorz/matrix [[-0.29733492697949826],\n",
      "[-1.6174055436869548],\n",
      "[3.605732389652434],\n",
      "[-5.710602136359952]],\n",
      " :Pnn\n",
      " #vectorz/matrix [[302.5743366767256,400.4620286961495,-105.6546106121292,-193.09349096088863],\n",
      "[400.46202869614933,703.8754943925106,195.78254465463857,-97.42892919557505],\n",
      "[-105.65461061212935,195.7825446546386,708.1330529966615,396.0336691302056],\n",
      "[-193.09349096088835,-97.42892919557511,396.03366913020557,290.8899574129797]]}\n",
      "{:xn1 #vectorz/matrix [[-7.258239261571873],\n",
      "[-9.24487380036868],\n",
      "[8.893682213600231],\n",
      "[-0.025098660720528798]],\n",
      " :Pnn\n",
      " #vectorz/matrix [[28.012266647681926,99.60837908799198,102.92036471941165,31.162371265423673],\n",
      "[99.6083790879922,374.2126299153698,424.3302917589182,148.30127887603956],\n",
      "[102.92036471941205,424.3302917589191,549.6861111814607,225.6745189137946],\n",
      "[31.162371265423275,148.30127887603896,225.6745189137955,107.7230263887972]]}\n",
      "{:xn1 #vectorz/matrix [[-7.222856410235995],\n",
      "[-10.19614504958052],\n",
      "[5.775394806504123],\n",
      "[-2.1808400434235162]],\n",
      " :Pnn\n",
      " #vectorz/matrix [[27.996590517543883,100.02983330482834,104.30190061479108,32.11745773198275],\n",
      "[100.02983330482928,362.8817940952222,387.18757071156244,122.62369038763805],\n",
      "[104.3019006147936,387.18757071156847,427.93148083473784,141.50283718335305],\n",
      "[32.117457731983805,122.62369038764118,141.5028371833547,49.533272248400465]]}\n",
      "{:xn1 #vectorz/matrix [[-7.767439961817981],\n",
      "[-12.275352108142043],\n",
      "[3.3760729711553332],\n",
      "[-3.0207261124771554]],\n",
      " :Pnn\n",
      " #vectorz/matrix [[7.583681452499452,22.093831582923926,14.366869891822518,0.6355705123172584],\n",
      "[22.09383158292428,65.32399157710694,43.81776060999567,2.426593112452167],\n",
      "[14.366869891823143,43.81776060999698,31.696445183102526,2.8001914557954137],\n",
      "[0.6355705123172747,2.4265931124522395,2.8001914557954386,0.9802110578732319]]}\n",
      "{:xn1 #vectorz/matrix [[-7.279991541549191],\n",
      "[-10.767220778007431],\n",
      "[4.519718201970498],\n",
      "[-2.8761651974906854]],\n",
      " :Pnn\n",
      " #vectorz/matrix [[2.7540496274759687,7.151288402013392,3.0356496567968163,-0.7967369209249108],\n",
      "[7.151288402013561,19.092807751351636,8.75975747671178,-2.0048659396995863],\n",
      "[3.035649656796995,8.759757476712142,5.111281620652979,-0.5602698709337968],\n",
      "[-0.7967369209249517,-2.0048659396996378,-0.5602698709337748,0.5554365289554135]]}\n",
      "{:xn1 #vectorz/matrix [[-6.029459894902724],\n",
      "[-7.625692496869384],\n",
      "[5.536943188529948],\n",
      "[-3.2367882730773667]],\n",
      " :Pnn\n",
      " #vectorz/matrix [[1.7729676448555804,4.686659215873255,2.237604194084368,-0.513816610252246],\n",
      "[4.68665921587329,12.901279283007005,6.754944245900501,-1.2941265036605016],\n",
      "[2.2376041940843834,6.754944245900561,4.4621242904418885,-0.33013286481070614],\n",
      "[-0.5138166102522661,-1.2941265036605394,-0.33013286481071424,0.47384915541367106]]}\n",
      "{:xn1 #vectorz/matrix [[-6.057393003932362],\n",
      "[-7.704143820294746],\n",
      "[5.498898873774255],\n",
      "[-3.2204627970233433]],\n",
      " :Pnn\n",
      " #vectorz/matrix [[1.366879727044189,3.5461440463820986,1.6845208782491086,-0.27647895582131565],\n",
      "[3.54614404638213,9.698093975623411,5.201586256078308,-0.6275536180922874],\n",
      "[1.6845208782491154,5.201586256078347,3.708836293340221,-0.006883905342300101],\n",
      "[-0.27647895582132953,-0.6275536180923098,-0.006883905342304819,0.3351374140883863]]}\n",
      "{:xn1 #vectorz/matrix [[-4.291482013369842],\n",
      "[-2.67749493198888],\n",
      "[8.568613153466721],\n",
      "[-3.3370590161967604]],\n",
      " :Pnn\n",
      " #vectorz/matrix [[0.3043489510059026,0.5216602684866626,-0.16249514534924786,-0.2063241904319312],\n",
      "[0.5216602684866823,1.0889295833601345,-0.0559273396360179,-0.42785874369684807],\n",
      "[-0.1624951453492553,-0.05592733963599872,0.49813570154278924,0.11506736301447487],\n",
      "[-0.20632419043193817,-0.4278587436968516,0.11506736301448123,0.33050536839349276]]}\n",
      "{:xn1 #vectorz/matrix [[-4.3494564690628215],\n",
      "[-2.8707902969322143],\n",
      "[8.63673415591824],\n",
      "[-3.2688656023636113]],\n",
      " :Pnn\n",
      " #vectorz/matrix [[0.300654114904361,0.5093411413104615,-0.15815364811356797,-0.20197807826397485],\n",
      "[0.5093411413104735,1.0478558008667263,-0.041452149096663636,-0.41336816629429846],\n",
      "[-0.15815364811357607,-0.04145214909665563,0.49303436613049606,0.10996060497579978],\n",
      "[-0.20197807826397865,-0.4133681662943005,0.10996060497580168,0.3253931819642784]]}\n",
      "{:xn1 #vectorz/matrix [[-4.323848941808674],\n",
      "[-2.870841302149716],\n",
      "[8.509076412242644],\n",
      "[-3.347794059635168]],\n",
      " :Pnn\n",
      " #vectorz/matrix [[0.29716482885022194,0.5093480912901432,-0.14075898207302154,-0.1912232731436278],\n",
      "[0.5093480912901552,1.0478557870237175,-0.04148679589078623,-0.41338958777591617],\n",
      "[-0.14075898207302856,-0.04148679589077829,0.4063190891461866,0.05634612897785371],\n",
      "[-0.1912232731436309,-0.4133895877759182,0.05634612897785554,0.2922443281924746]]}\n",
      "{:xn1 #vectorz/matrix [[-4.413340124410718],\n",
      "[-3.0681073024401675],\n",
      "[8.478754363632879],\n",
      "[-3.2923631588157494]],\n",
      " :Pnn\n",
      " #vectorz/matrix [[0.1585906055219707,0.20388802266104633,-0.18771170091801365,-0.10539030272023082],\n",
      "[0.20388802266105455,0.3745281559110168,-0.14498498174560248,-0.22418740856496314],\n",
      "[-0.18771170091802059,-0.14498498174559304,0.3904102299515384,0.08542867572519425],\n",
      "[-0.10539030272023246,-0.22418740856496433,0.08542867572519665,0.23907932654384628]]}\n",
      "{:xn1 #vectorz/matrix [[-4.378593866729653],\n",
      "[-3.004282705843778],\n",
      "[8.464991428337099],\n",
      "[-3.3201420153146013]],\n",
      " :Pnn\n",
      " #vectorz/matrix [[0.08922886092473233,0.07647903925985149,-0.16023762841050268,-0.04993713802656424],\n",
      "[0.07647903925985683,0.14049354294696192,-0.09451849379321998,-0.12232677370024338],\n",
      "[-0.1602376284105089,-0.09451849379321028,0.3795277951954489,0.06346376875217324],\n",
      "[-0.04993713802656481,-0.12232677370024486,0.0634637687521758,0.19474576065102125]]}\n",
      "{:xn1 #vectorz/matrix [[-5.036351240487425],\n",
      "[-3.8779124465248054],\n",
      "[9.31330997245423],\n",
      "[-2.745654680993177]],\n",
      " :Pnn\n",
      " #vectorz/matrix [[0.03226961113168456,8.260757030957282E-4,-0.08677651678146721,-1.8875224775904975E-4],\n",
      "[8.260757030979209E-4,0.04001169117196495,0.0030521522581742977,-0.056251240226645835],\n",
      "[-0.08677651678147133,0.0030521522581827675,0.2847840100967827,-6.973944362382925E-4],\n",
      "[-1.8875224775850852E-4,-0.05625124022664858,-6.973944362353296E-4,0.15129536591111442]]}\n",
      "{:xn1 #vectorz/matrix [[-5.062052651362837],\n",
      "[-3.991169917055933],\n",
      "[9.218349402929187],\n",
      "[-2.7197761785040413]],\n",
      " :Pnn\n",
      " #vectorz/matrix [[0.032082150552166226,-4.237680085311668E-14,-0.08746913881225175,1.4291302516400428E-14],\n",
      "[-4.017160817318052E-14,0.03637145348002747,3.348453377636021E-14,-0.05541947257608758],\n",
      "[-0.08746913881225589,4.1864081645748286E-14,0.28222493725725173,-1.1591422266477025E-14],\n",
      "[1.4835002800847596E-14,-0.055419472576090305,-8.630249292984615E-15,0.15110531309504485]]}\n"
     ]
    },
    {
     "data": {
      "text/plain": [
       "nil"
      ]
     },
     "execution_count": 86,
     "metadata": {},
     "output_type": "execute_result"
    }
   ],
   "source": [
    "(defn make-kalman-mapper [{:keys [xn1 Pnn]}]\n",
    "    ;; let-over-lambda (LOL); here are the Bayesian priors\n",
    "    (let [estimate-and-covariance (atom {:xn1 xn1, ;; prior-estimate\n",
    "                                         :Pnn Pnn, ;; prior-covariance\n",
    "                                         })]\n",
    "        ;; here is the mapper (mappable)\n",
    "        (fn [{:keys [zm1 Hmn Ann Qnn Rmm]}]\n",
    "            (let [{xn1 :xn1, Pnn :Pnn} @estimate-and-covariance]\n",
    "                (let [ ;; out-dented so we don't go crazy reading it\n",
    "    x'n1   (ccm/mmul Ann xn1)                    ; Predict state\n",
    "    P'nn   (ccm/add\n",
    "            Qnn (similarity-transform Ann Pnn))  ; Predict covariance\n",
    "    Dmm    (ccm/add\n",
    "            Rmm (similarity-transform Hmn P'nn)) ; Gain precursor\n",
    "    DTmm   (ccm/transpose Dmm)                   ; Support for \"solve\"\n",
    "    HP'Tmn (ccm/mmul Hmn (ccm/transpose P'nn))   ; Support for \"solve\"\n",
    "    KTmn   (solve-matrix DTmm HP'Tmn)            ; Eqn 3 of http://vixra.org/abs/1606.0328\n",
    "    Knm    (ccm/transpose KTmn)                  ; Kalman gain\n",
    "    rm1    (ccm/sub zm1  (ccm/mmul Hmn x'n1))    ; innovation = predicted obn residual\n",
    "    x''n1  (ccm/add x'n1 (ccm/mmul Knm rm1))     ; final corrected estimate\n",
    "    n      (ccm/dimension-count xn1 0)\n",
    "    Lnn    (ccm/sub (ccm/identity-matrix n)      ; Support for new covariance ...\n",
    "                    (ccm/mmul Knm Hmn))          ; ...  ? catastrophic cancellation ?\n",
    "    P''nn  (ccm/mmul Lnn P'nn)]\n",
    "                    (swap! estimate-and-covariance conj\n",
    "                           [:xn1 x''n1]\n",
    "                           [:Pnn P''nn])   )   )\n",
    "            @estimate-and-covariance)   ))\n",
    "\n",
    "#_(clojure.pprint/pprint (last \n",
    "                           (map (make-kalman-mapper state-cluster-prior) \n",
    "                           obn-clusters)))\n",
    "\n",
    "(async-randomized-scan obn-clusters\n",
    "                       (make-kalman-mapper state-cluster-prior)\n",
    "                       clojure.pprint/pprint)"
   ]
  },
  {
   "cell_type": "markdown",
   "metadata": {},
   "source": [
    "### PYTHON BASELINE"
   ]
  },
  {
   "cell_type": "markdown",
   "metadata": {},
   "source": [
    "The above is a transcription of the following Python code, developed in another notebook and for cross-validation of the Clojure code above."
   ]
  },
  {
   "cell_type": "raw",
   "metadata": {
    "button": false,
    "collapsed": true,
    "new_sheet": false,
    "run_control": {
     "read_only": false
    }
   },
   "source": [
    "def kalman_update(x, P, z, H, A, Q, R):\n",
    "    xm   = np.dot(A, x)                           # (n x 1) Predict state\n",
    "    Pm   = A.dot(P).dot(A.T) + Q                  # (n x n) Predict covariance\n",
    "    D    = H.dot(Pm).dot(H.T) + R                 # (m x m) gain precursor\n",
    "    K    = (np.linalg.solve (D.T, H.dot(Pm.T))).T # (n x m) Kalman gain\n",
    "    xnew = xm + K.dot(z - np.dot(H, xm))          # (m x 1) innovation = predicted obn residual\n",
    "    L    = (np.eye(3) - K.dot(H))                 # (n x n) potential numerical issues\n",
    "    Pnew = L.dot(Pm)                              # (n x n) new covariance\n",
    "    return xnew, Pnew"
   ]
  },
  {
   "cell_type": "markdown",
   "metadata": {},
   "source": [
    "## INS / BARO FUSION EXAMPLE"
   ]
  },
  {
   "cell_type": "markdown",
   "metadata": {},
   "source": [
    "### STATE $\\boldsymbol{x}$"
   ]
  },
  {
   "cell_type": "markdown",
   "metadata": {},
   "source": [
    "Altitude $h$, vertical velocity $\\dot{h}$, and barometer bias:"
   ]
  },
  {
   "cell_type": "markdown",
   "metadata": {},
   "source": [
    "$$\\bar{\\boldsymbol{x}}=[h,\\, \\dot{h},\\, \\mathrm{bias_{baro}}]^\\intercal\\tag{8.2.1}$$"
   ]
  },
  {
   "cell_type": "markdown",
   "metadata": {},
   "source": [
    "### PROCESS DYNAMICS $\\boldsymbol{A}$, $\\bar{\\boldsymbol{w}}$"
   ]
  },
  {
   "cell_type": "markdown",
   "metadata": {},
   "source": [
    "$$\\bar{\\boldsymbol{x}}_{k+1} = \\boldsymbol{A}\\, \\bar{\\boldsymbol{x}}_k + \\bar{\\boldsymbol{w}}\\tag{8.2.2}$$"
   ]
  },
  {
   "cell_type": "markdown",
   "metadata": {},
   "source": [
    "where\n",
    "$\\boldsymbol{A}\n",
    "=\\begin{bmatrix}\n",
    "    1 & dt & 0 \\\\\n",
    "    0 & 1 & 0  \\\\\n",
    "    0 & 0 & 1  \\\\\n",
    "\\end{bmatrix}$, $\\boldsymbol{\\bar{w}}$ is drawn from a joint normal distribution of mean 0, covariance $\\boldsymbol{Q}$, or, in notation, $\\boldsymbol{\\bar{w}}\\sim\\mathcal{N}(\\boldsymbol{0},\\boldsymbol{Q})$"
   ]
  },
  {
   "cell_type": "code",
   "execution_count": null,
   "metadata": {},
   "outputs": [],
   "source": [
    "(defn A [dt] (ccm/array [[1 dt 0]\n",
    "                         [0  1 0]\n",
    "                         [0  0 1]]))"
   ]
  },
  {
   "cell_type": "code",
   "execution_count": null,
   "metadata": {},
   "outputs": [],
   "source": [
    "(ccmr/sample-normal 3)"
   ]
  },
  {
   "cell_type": "markdown",
   "metadata": {},
   "source": [
    "### MEASUREMENTS $\\bar{\\boldsymbol{z}}$"
   ]
  },
  {
   "cell_type": "markdown",
   "metadata": {},
   "source": [
    "a.k.a. OBSERVATIONS, OBNS"
   ]
  },
  {
   "cell_type": "markdown",
   "metadata": {},
   "source": [
    "1. $h_{\\mathrm{imu}}$: Altitude from the fused IMU/GNSS\n",
    "2. $\\dot{h}_{\\mathrm{imu}}$: vertical velocity from the IMU/GNSS\n",
    "3. $h_{\\mathrm{baro}}$: altitude from the barometer\n",
    "4. a dummy observation, the average of the two height measurements, to artificially make the dimensions of $\\boldsymbol{H}$, namely $3\\times{4}$ different from the dimensions of $\\boldsymbol{A}$, namely $3\\times{3}$, for the purpose of validating computational linear algebra code."
   ]
  },
  {
   "cell_type": "markdown",
   "metadata": {},
   "source": [
    "$$\\bar{\\boldsymbol{z}}=[h_{\\mathrm{imu}},\\,\\dot{h}_{\\mathrm{imu}},\\, h_{\\mathrm{baro}},\\, \\frac{h_{\\mathrm{imu}}+h_{\\mathrm{baro}}}{2}]^\\intercal\\tag{8.2.3}$$"
   ]
  },
  {
   "cell_type": "markdown",
   "metadata": {},
   "source": [
    "### MEASUREMENT PARTIALS $\\boldsymbol{H}$: $\\partial\\kern{.125em}{\\boldsymbol{z}}\\kern{.125em}/\\kern{.125em}\\partial\\kern{.125em}{\\boldsymbol{x}}$"
   ]
  },
  {
   "cell_type": "markdown",
   "metadata": {},
   "source": [
    "Measurements $\\bar{\\boldsymbol{z}}$ are related to the state vector $\\bar{\\boldsymbol{x}}$ by the following linear model: \n",
    "1. The measured imu height $h_{\\mathrm{imu}}$ is equal to the height $h$ from the state.\n",
    "2. The measured vertical speed from the imu $\\dot{h}_{\\mathrm{imu}}$ is equal to $\\dot{h}$ from the state. \n",
    "3. The measured baro height $h_{\\mathrm{baro}}$ is equal to the height $h$ from the state plus the baro bias from the state.\n",
    "4. The measured dummy value is equal to the height from the state plus half the baro bias from the state.\n",
    "\n",
    "$\\boldsymbol{\\bar{\\nu}}\\sim\\mathcal{N}(\\boldsymbol{0},\\boldsymbol{R})$ noise is added to the measurements."
   ]
  },
  {
   "cell_type": "markdown",
   "metadata": {},
   "source": [
    "$$\\bar{\\boldsymbol{z}}_k = \\boldsymbol{H}\\, \\bar{\\boldsymbol{x}}_k+\\bar{\\boldsymbol{\\nu}}\\tag{8.2.4}$$"
   ]
  },
  {
   "cell_type": "markdown",
   "metadata": {},
   "source": [
    "where $\\boldsymbol{H}=\n",
    "\\begin{bmatrix}\n",
    "     1  &  0  &  0 \\\\\n",
    "     0  &  1  &  0 \\\\\n",
    "     1  &  0  &  1 \\\\\n",
    "     1  &  0  & 1/2\n",
    "\\end{bmatrix}$"
   ]
  },
  {
   "cell_type": "code",
   "execution_count": null,
   "metadata": {},
   "outputs": [],
   "source": [
    "(def H (ccm/array [[1 0 0]\n",
    "                   [0 1 0]\n",
    "                   [1 0 1]\n",
    "                   [1 0 0.5]]))\n",
    "H"
   ]
  },
  {
   "cell_type": "markdown",
   "metadata": {
    "button": false,
    "new_sheet": false,
    "run_control": {
     "read_only": false
    }
   },
   "source": [
    "This sets up the whole problem. We modify $\\boldsymbol{Q}$ and $\\boldsymbol{R}$ to \"tune\" the Kalman filter. "
   ]
  },
  {
   "cell_type": "markdown",
   "metadata": {},
   "source": [
    "### GROUND TRUTH"
   ]
  },
  {
   "cell_type": "code",
   "execution_count": null,
   "metadata": {},
   "outputs": [],
   "source": [
    "(defmacro hashup [& vars]\n",
    "  (list 'zipmap\n",
    "    (mapv keyword vars)\n",
    "    (vec vars)))"
   ]
  },
  {
   "cell_type": "code",
   "execution_count": null,
   "metadata": {
    "scrolled": true
   },
   "outputs": [],
   "source": [
    "(def ground-truth\n",
    "    (let [n              201\n",
    "          t1             2.0\n",
    "          times          (vec (linspace 0.0, t1, n))\n",
    "          wavelength     1\n",
    "          wavespeed      1\n",
    "          f              (* (/ wavespeed wavelength) 2 Math/PI)\n",
    "          dt             (- (get times 1) (get times 0))\n",
    "          amplitude      5.0\n",
    "          ground-level   10.0\n",
    "          h-true         (mapv #(+ ground-level \n",
    "                                   (* amplitude (Math/sin (* f %))))\n",
    "                               times)\n",
    "          h-dot-true     (mapv #(* amplitude f (Math/cos (* f %)))\n",
    "                               times)\n",
    "          baro-bias-true -3.777]\n",
    "        (hashup n times f dt h-true h-dot-true baro-bias-true)))"
   ]
  },
  {
   "cell_type": "markdown",
   "metadata": {},
   "source": [
    "Here is the old Python code:"
   ]
  },
  {
   "cell_type": "raw",
   "metadata": {
    "button": false,
    "collapsed": true,
    "new_sheet": false,
    "run_control": {
     "read_only": false
    }
   },
   "source": [
    "N_points       = 200\n",
    "t_final        =   2\n",
    "time           = np.linspace(0, t_final, N_points)\n",
    "f              = 1 * 2 * np.pi\n",
    "dt             = time[1] - time[0]\n",
    "h_true         = 5 * np.sin(f * time) + 10\n",
    "hdot_true      = 5 * f * np.cos(f * time)\n",
    "baro_bias_true = -3.777 # just a fun value\n",
    "\n",
    "plt.plot(time, h_true,                         'r', label = 'true alt')\n",
    "plt.plot(time, hdot_true,                      'g', label = 'true speed')\n",
    "plt.plot(time, baro_bias_true + (time - time), 'b', label = 'true bias')\n",
    "\n",
    "plt.grid(); plt.xlabel('time [s]'); plt.ylabel('altitude [m] / hdot [m/s]'); plt.legend(); plt.show()"
   ]
  },
  {
   "cell_type": "markdown",
   "metadata": {},
   "source": [
    "Add `[quil \"2.6.0\"]` to `clojupyter` and borrow plotting code from [VDQuil](https://github.com/daveliepmann/vdquil)."
   ]
  },
  {
   "cell_type": "markdown",
   "metadata": {
    "button": false,
    "new_sheet": false,
    "run_control": {
     "read_only": false
    }
   },
   "source": [
    "### SIMULATION"
   ]
  },
  {
   "cell_type": "markdown",
   "metadata": {},
   "source": [
    "Significant process noise must be added to the velocity measure. The filter cannot track velocity without it because there are no direct measurements of velocity: it's inferred from the height measurements. Try setting the second element of $\\boldsymbol{Q}$ to $0$ or $1$ and watch the bad results. "
   ]
  },
  {
   "cell_type": "markdown",
   "metadata": {},
   "source": [
    "#### TODO"
   ]
  },
  {
   "cell_type": "markdown",
   "metadata": {},
   "source": [
    "This effect needs a better explanation."
   ]
  },
  {
   "cell_type": "raw",
   "metadata": {
    "button": false,
    "collapsed": true,
    "new_sheet": false,
    "run_control": {
     "read_only": false
    }
   },
   "source": [
    "Q        =    1 * np.diag([1, 10, 0.01])           # [n x n] process noise\n",
    "R_sigmas = [10.0, np.sqrt(5.0), 1.0, 10.02497]     # [m x 1] msmt. sigmas\n",
    "R        = np.diag(map(lambda x: x * x, R_sigmas)) # [m x m] measurement noise\n",
    "\n",
    "# process and measurment matrices\n",
    "A = np.array([[1, dt, 0], \n",
    "              [0,  1, 0], \n",
    "              [0,  0, 1]])\n",
    "\n",
    "H = np.array([[ 1,  0,  0  ], \n",
    "              [ 0,  1,  0  ], \n",
    "              [ 1,  0,  1  ],\n",
    "              [ 1,  0,  0.5]])\n",
    "\n",
    "meas = np.array([[np.random.normal (h,                        R_sigmas[0]),\n",
    "                  np.random.normal (v,                        R_sigmas[1]),\n",
    "                  np.random.normal (h + baro_bias_true,       R_sigmas[2]),\n",
    "                  np.random.normal (h + baro_bias_true * 0.5, R_sigmas[3])]\n",
    "                 for h, v in zip(h_true, hdot_true)])"
   ]
  },
  {
   "cell_type": "raw",
   "metadata": {
    "collapsed": true
   },
   "source": [
    "x_est = []\n",
    "Ps    = []\n",
    "\n",
    "# Hazards of non-immutable variables: if x, P initializations are in a\n",
    "# different block of code, then you can't iterate this simulation by\n",
    "# evaluating _this_ block of code, because x and P will have the last\n",
    "# values assigned to them instead of the initial values that you want.\n",
    "# THAT is why you want to \"reduce\" over a foldable Kalman instead of\n",
    "# \"loop\" over mutable variables (TODO).\n",
    "\n",
    "x = np.array([0, 0, 0])       # we don't know anything\n",
    "P = 1000 * np.diag([1, 1, 1]) # Fat a-priori\n",
    "\n",
    "# Save one iteration for comparison against C++ code\n",
    "\n",
    "x_save, P_save = kalman_update (x, P, meas[0], H, A, Q, R)\n",
    "print \"FOR COMPARING AGAINST C++ CODE\"\n",
    "print \"x0:\", x\n",
    "print \"P0:\", P\n",
    "print \"z0:\", meas[0]\n",
    "print \"H:\",  H\n",
    "print \"A:\",  A\n",
    "print \"Q:\",  Q\n",
    "print \"R:\",  R\n",
    "print \"x1:\", x_save\n",
    "print \"P1:\", P_save\n",
    "# print {\"x0\": x, \"P0\": P, \"z0\": z[0], \"H\": H, \"A\": A, \"Q\": Q, \"R\": R, \"x1\": x_save, \"P1\": P_save}\n",
    "\n",
    "for t, z in zip(time, meas):\n",
    "    x, P = kalman_update(x, P, z, H, A, Q, R)\n",
    "    x_est.append(x)\n",
    "    Ps.append(P)\n",
    "\n",
    "x_est = np.array(x_est)\n",
    "Ps    = np.array(Ps)\n",
    "\n",
    "plt.plot(time, x_est[:,0],                  'g-', label = 'Estimated alt')\n",
    "plt.plot(time, meas[:,0],                   'b.', label = 'Noisy imu alt',     markersize = 1)\n",
    "plt.plot(time, meas[:,2] - baro_bias_true,  'c.', label = 'Noisy baro - bias', markersize = 2)\n",
    "plt.plot(time, h_true + np.sqrt(Ps[:,0,0]), color = 'darkorange', label = '1-sigma envelope')\n",
    "plt.plot(time, h_true - np.sqrt(Ps[:,0,0]), color = 'darkorange')\n",
    "plt.grid(); plt.xlabel('time [s]'); plt.ylabel('altitude [m]'); plt.legend(); plt.show()\n",
    "\n",
    "plt.plot(time, x_est[:,1], 'g-', label = 'Estimated hdot')\n",
    "plt.plot(time, meas[:,1],  'b.', label = 'Measured hdot', markersize = 1)\n",
    "plt.plot(time, hdot_true,  'c.', label = 'hdot real',     markersize = 2)\n",
    "plt.grid(); plt.xlabel('time [s]'); plt.ylabel('hdot [m/s]'); plt.legend(); plt.show()\n",
    "\n",
    "plt.plot(time, x_est[:,2],         'g-', label = 'estimated bias')\n",
    "plt.plot(time, meas[:,2] - h_true, 'c.', label = 'Noisy baro_bias', markersize = 2)\n",
    "plt.plot(time, baro_bias_true + np.sqrt(Ps[:,2, 2]), color = 'darkorange', label = '1-sigma envelope')\n",
    "plt.plot(time, baro_bias_true - np.sqrt(Ps[:,2, 2]), color = 'darkorange')\n",
    "plt.grid(); plt.xlabel('time [s]'); plt.ylabel('Barometer bias [m]'); plt.show()"
   ]
  },
  {
   "cell_type": "raw",
   "metadata": {
    "collapsed": true
   },
   "source": [
    "plt.plot(time, h_true - x_est[:,0], 'g-', label = 'alt residual')\n",
    "plt.plot(time,   np.sqrt(Ps[:,0,0]), color = 'darkorange', label = '1-sigma envelope')\n",
    "plt.plot(time, - np.sqrt(Ps[:,0,0]), color = 'darkorange')\n",
    "plt.grid(); plt.xlabel('time [s]'); plt.ylabel('altitude residual [m]'); plt.legend(); plt.show()\n",
    "\n",
    "plt.plot(time, hdot_true - x_est[:,1], 'g-',  label = 'hdot residual')\n",
    "plt.plot(time,   np.sqrt(Ps[:,1,1]), color = 'darkorange', label = '1-sigma envelope')\n",
    "plt.plot(time, - np.sqrt(Ps[:,1,1]), color = 'darkorange')\n",
    "plt.grid(); plt.xlabel('time [s]'); plt.ylabel('hdot residual [m/s]'); plt.legend(); plt.show()\n",
    "\n",
    "plt.plot(time, baro_bias_true - x_est[:,2], 'g-', label = 'bias residual')\n",
    "plt.plot(time,   np.sqrt(Ps[:,2, 2]), color = 'darkorange', label = '1-sigma envelope')\n",
    "plt.plot(time, - np.sqrt(Ps[:,2, 2]), color = 'darkorange')\n",
    "plt.grid(); plt.xlabel('time [s]'); plt.ylabel('Barometer bias residual [m]'); plt.legend(); plt.show()"
   ]
  },
  {
   "cell_type": "markdown",
   "metadata": {},
   "source": [
    "## VALIDATE C++ CODE"
   ]
  },
  {
   "cell_type": "raw",
   "metadata": {
    "collapsed": true
   },
   "source": [
    "import pandas as pd"
   ]
  },
  {
   "cell_type": "markdown",
   "metadata": {},
   "source": [
    "The files that we read in and plot here were created from C++ code."
   ]
  },
  {
   "cell_type": "raw",
   "metadata": {
    "collapsed": true
   },
   "source": [
    "ground_truth_df = pd.read_csv(\"../ground_truth.csv\")"
   ]
  },
  {
   "cell_type": "raw",
   "metadata": {
    "collapsed": true
   },
   "source": [
    "ground_truth_df.plot(x = 'times', y = ['h_true','hdot_true','baro_bias_true']);"
   ]
  },
  {
   "cell_type": "markdown",
   "metadata": {},
   "source": [
    "### DIFFERENCES BETWEEN PYTHON AND C++: TODO"
   ]
  },
  {
   "cell_type": "markdown",
   "metadata": {},
   "source": [
    "I see differences in the fifth decimal place between Python and C++. This should not be. Must investigate."
   ]
  },
  {
   "cell_type": "raw",
   "metadata": {
    "collapsed": true
   },
   "source": [
    "plt.plot (time, h_true - ground_truth_df['h_true'])\n",
    "plt.grid(); plt.xlabel('time [s]'); plt.ylabel('Python - C++ altitude [m]'); plt.show()\n",
    "plt.plot(time, hdot_true - ground_truth_df['hdot_true'])\n",
    "plt.grid(); plt.xlabel('time [s]'); plt.ylabel('Python - C++ h_dot [m/2]'); plt.show()"
   ]
  },
  {
   "cell_type": "markdown",
   "metadata": {},
   "source": [
    "There is no difference between Python and C++ in the true baro bias because they're both constants, namely $3.777\\,\\mathrm{m}$."
   ]
  },
  {
   "cell_type": "raw",
   "metadata": {
    "collapsed": true
   },
   "source": [
    "plt.plot (time, baro_bias_true - ground_truth_df['baro_bias_true'])\n",
    "plt.grid(); plt.xlabel('time [s]'); plt.ylabel('Python - C++ baro bias [m]'); plt.show()"
   ]
  },
  {
   "cell_type": "markdown",
   "metadata": {},
   "source": [
    "### NON-CLOSURE-STYLE KALMAN"
   ]
  },
  {
   "cell_type": "raw",
   "metadata": {
    "collapsed": true
   },
   "source": [
    "estimates_df = pd.read_csv(\"../estimates.csv\")"
   ]
  },
  {
   "cell_type": "raw",
   "metadata": {
    "collapsed": true
   },
   "source": [
    "estimates_df[0:50:10]"
   ]
  },
  {
   "cell_type": "raw",
   "metadata": {
    "collapsed": true
   },
   "source": [
    "plt.plot(estimates_df['time'], estimates_df['h'], label = 'altitude [m]');\n",
    "plt.plot(estimates_df['time'], ground_truth_df['h_true'], 'b', label = 'true altitude [m]');\n",
    "plt.plot(estimates_df['time'], ground_truth_df['h_true'] + estimates_df['sigma_h'], color = 'darkorange', label = '1-sigma envelope');\n",
    "plt.plot(estimates_df['time'], ground_truth_df['h_true'] - estimates_df['sigma_h'], color = 'darkorange')\n",
    "plt.grid(); plt.xlabel('time [s]'); plt.ylabel('altitude [m]'); plt.legend(); plt.show()\n",
    "plt.plot(estimates_df['time'], estimates_df['hdot'], label = 'vertical speed [m/s]');\n",
    "plt.plot(estimates_df['time'], ground_truth_df['hdot_true'], 'b', label = 'true vertical speed [m/s]');\n",
    "plt.plot(estimates_df['time'], ground_truth_df['hdot_true'] + estimates_df['sigma_hdot'], color = 'darkorange', label = '1-sigma envelope');\n",
    "plt.plot(estimates_df['time'], ground_truth_df['hdot_true'] - estimates_df['sigma_hdot'], color = 'darkorange')\n",
    "plt.grid(); plt.xlabel('time [s]'); plt.ylabel('altitude [m]'); plt.legend(); plt.show()\n",
    "plt.plot(estimates_df['time'], estimates_df['baro_bias'], label = 'baro bias [m]');\n",
    "plt.plot(estimates_df['time'], ground_truth_df['baro_bias_true'], 'b', label = 'true baro bias [m]');\n",
    "plt.plot(estimates_df['time'], ground_truth_df['baro_bias_true'] + estimates_df['sigma_baro_bias'], color = 'darkorange', label = '1-sigma envelope');\n",
    "plt.plot(estimates_df['time'], ground_truth_df['baro_bias_true'] - estimates_df['sigma_baro_bias'], color = 'darkorange'); plt.show()"
   ]
  },
  {
   "cell_type": "markdown",
   "metadata": {},
   "source": [
    "### RESIDUALS"
   ]
  },
  {
   "cell_type": "markdown",
   "metadata": {},
   "source": [
    "The following groups of plots show identical results from four styles of Kalman filter. There is **no significant speed difference** amongst the four styles, each taking about $39\\pm{3}\\,\\mathrm{ms}$ to process 200 samples."
   ]
  },
  {
   "cell_type": "markdown",
   "metadata": {},
   "source": [
    "1. **non-closure style**: All matrices are passed in the argument list of the Kalman filter. This is the most general form, but is potentially not as memory-efficient as \"closing\" over matrices that are usually constant. This is the simplest form (has the fewest moving parts) and is the easiest to understand, implement, modify, and deploy.\n",
    "2. **functional closure style**: The Kalman filter is written as a `std::function` of a lambda expression, in which the constant matrices are not function parameters, but \"free variables,\" that is, non-parameters referenced from an \"environment\" of variable names created by the constructor of the `std::function`. This form has advantages of clarity, but **may entail dynamic heap memory** because we do not have visibility or control over the memory management used by `std::function` (TODO: investigate).\n",
    "    1. **index-loop test**: reliably produces verifiable and correct results. Suffers from the small additional complications of the index variable, its bound, and its `for` loop. This complication is mitigated by the fact that the index-loop idiom is standard and familiar to all C++ programmers.\n",
    "    2. **std::accumulate test**: This alternative is the most modern in style, bypassing the index variable, its bound, and its loop. Also reliably produces verifiable and correct results. Requires understanding C++ lambda expressions, especially the difference between the `[=]` and `[&]` options for capture of free variables. It turns out that we want `[=]`, that is, copy semantics, for the Kalman `std::function` itself, and `[&]`, that is, reference semantics, for the accumulator lambda that saves the entire list of estimates. It is a good argument that this subtle difference complicates the code; in fact, it tripped us up in TAG_009. However, there is a mitigating simplicity to removing the index variable, its bound, and its loop. If we can prove that the Kalman filter does not use dynamic memory, this will be the **preferred method** when constant matrices must not be passed in to the Kalman filter every iteration.\n",
    "3. **object-style closure**: offers higher assurance of avoiding dynamic memory, using a stack-allocated instance of a class struct to \"close\" over the constant matrices. The free variables in the body of the Kalman filter refer to instance variables that hold the constant matrices. The Kalman filter itself is an ordinary member function or \"method.\" This is an  **acceptable** form when constant matrices must not be passed in to the Kalman filter every iteration. It is easily understood by C++ programmers who don't understand lambda expressions."
   ]
  },
  {
   "cell_type": "raw",
   "metadata": {
    "collapsed": true
   },
   "source": [
    "def plot_residuals (gt, est):\n",
    "    plt.plot(est['time'], gt['h_true'] - est['h'], label = 'altitude residual');\n",
    "    plt.plot(est['time'],   est['sigma_h'], color = 'darkorange', label = '1-sigma envelope');\n",
    "    plt.plot(est['time'], - est['sigma_h'], color = 'darkorange', label = '')\n",
    "    plt.grid(); plt.xlabel('time [s]'); plt.ylabel('altitude residual [m]'); plt.legend()\n",
    "    plt.show()\n",
    "    plt.plot(est['time'], gt['hdot_true'] - est['hdot'], label = 'vertical speed residual');\n",
    "    plt.plot(est['time'],   est['sigma_hdot'], color = 'darkorange', label = '1-sigma envelope');\n",
    "    plt.plot(est['time'], - est['sigma_hdot'], color = 'darkorange', label = '')\n",
    "    plt.grid(); plt.xlabel('time [s]'); plt.ylabel('vertical speed residual [m/s]'); plt.legend()\n",
    "    plt.show()\n",
    "    plt.plot(est['time'], gt['baro_bias_true'] - est['baro_bias'], label = 'baro-bias residual');\n",
    "    plt.plot(est['time'],   est['sigma_baro_bias'], color = 'darkorange', label = '1-sigma envelope');\n",
    "    plt.plot(est['time'], - est['sigma_baro_bias'], color = 'darkorange', label = '')\n",
    "    plt.grid(); plt.xlabel('time [s]'); plt.ylabel('baro-bias residual [m]'); plt.legend()\n",
    "    plt.show()    "
   ]
  },
  {
   "cell_type": "markdown",
   "metadata": {},
   "source": [
    "#### NON-CLOSURE KALMAN FILTER"
   ]
  },
  {
   "cell_type": "raw",
   "metadata": {
    "collapsed": true
   },
   "source": [
    "plot_residuals (ground_truth_df, estimates_df)"
   ]
  },
  {
   "cell_type": "markdown",
   "metadata": {},
   "source": [
    "#### FUNCTIONAL CLOSURE, INDEX LOOP"
   ]
  },
  {
   "cell_type": "raw",
   "metadata": {
    "collapsed": true
   },
   "source": [
    "plot_residuals (ground_truth_df, pd.read_csv(\"../functional_closure_index_loop_estimates.csv\"))"
   ]
  },
  {
   "cell_type": "markdown",
   "metadata": {},
   "source": [
    "#### FUNCTIONAL CLOSURE, `std::accumulate`"
   ]
  },
  {
   "cell_type": "raw",
   "metadata": {
    "collapsed": true
   },
   "source": [
    "plot_residuals (ground_truth_df, pd.read_csv(\"../functional_closure_accumulated_estimates.csv\"))"
   ]
  },
  {
   "cell_type": "markdown",
   "metadata": {},
   "source": [
    "#### OBJECT-STYLE CLOSURE, INDEX LOOP"
   ]
  },
  {
   "cell_type": "raw",
   "metadata": {
    "collapsed": true
   },
   "source": [
    "plot_residuals (ground_truth_df, pd.read_csv(\"../object_closure_index_loop_estimates.csv\"))"
   ]
  },
  {
   "cell_type": "markdown",
   "metadata": {},
   "source": [
    "# TODO"
   ]
  },
  {
   "cell_type": "markdown",
   "metadata": {},
   "source": [
    "## Frinj FOR UNITS OF MEASURE"
   ]
  },
  {
   "cell_type": "markdown",
   "metadata": {},
   "source": [
    "## VDQuil FOR PLOTTING"
   ]
  },
  {
   "cell_type": "markdown",
   "metadata": {
    "heading_collapsed": true
   },
   "source": [
    "## OPEN-CL"
   ]
  },
  {
   "cell_type": "code",
   "execution_count": null,
   "metadata": {
    "hidden": true
   },
   "outputs": [],
   "source": [
    "(require '[uncomplicate.clojurecl.core :as cclo])\n",
    "(require '[uncomplicate.clojurecl.info :as ccli])"
   ]
  },
  {
   "cell_type": "code",
   "execution_count": null,
   "metadata": {
    "hidden": true
   },
   "outputs": [],
   "source": [
    "(clojure.pprint/pprint (map ccli/info (cclo/platforms)))"
   ]
  },
  {
   "cell_type": "code",
   "execution_count": null,
   "metadata": {
    "hidden": true
   },
   "outputs": [],
   "source": [
    "(clojure.pprint/pprint \n",
    "    (map ccli/info\n",
    "         (cclo/devices \n",
    "             (first (cclo/platforms)))))"
   ]
  },
  {
   "cell_type": "markdown",
   "metadata": {
    "heading_collapsed": true
   },
   "source": [
    "## CUDA / MKL"
   ]
  },
  {
   "cell_type": "markdown",
   "metadata": {
    "hidden": true
   },
   "source": [
    "Cuda / MKL / Neanderthal"
   ]
  },
  {
   "cell_type": "code",
   "execution_count": null,
   "metadata": {
    "hidden": true
   },
   "outputs": [],
   "source": [
    "(require '[uncomplicate.neanderthal.core   :as uncore])\n",
    "(require '[uncomplicate.neanderthal.native :as uncnat])"
   ]
  },
  {
   "cell_type": "code",
   "execution_count": null,
   "metadata": {
    "hidden": true
   },
   "outputs": [],
   "source": [
    "(def xs (uncnat/dv 1 2 3))\n",
    "(def ys (uncnat/dv 10 20))"
   ]
  },
  {
   "cell_type": "markdown",
   "metadata": {},
   "source": [
    "# GAUSSIAN PROCESSES"
   ]
  },
  {
   "cell_type": "code",
   "execution_count": null,
   "metadata": {},
   "outputs": [],
   "source": []
  }
 ],
 "metadata": {
  "kernelspec": {
   "display_name": "Clojure (clojupyter-v0.2.2)",
   "language": "clojure",
   "name": "clojupyter"
  },
  "language_info": {
   "file_extension": ".clj",
   "mimetype": "text/x-clojure",
   "name": "clojure",
   "version": "1.10.0"
  },
  "toc": {
   "nav_menu": {
    "height": "425px",
    "width": "252px"
   },
   "number_sections": true,
   "sideBar": true,
   "skip_h1_title": false,
   "toc_cell": false,
   "toc_position": {
    "height": "657px",
    "left": "0px",
    "right": "1134px",
    "top": "106px",
    "width": "306px"
   },
   "toc_section_display": "block",
   "toc_window_display": false
  }
 },
 "nbformat": 4,
 "nbformat_minor": 2
}
